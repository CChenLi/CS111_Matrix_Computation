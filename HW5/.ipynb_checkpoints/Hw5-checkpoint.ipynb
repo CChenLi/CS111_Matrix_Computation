{
 "cells": [
  {
   "cell_type": "code",
   "execution_count": 57,
   "metadata": {},
   "outputs": [],
   "source": [
    "import os\n",
    "import math\n",
    "import numpy as np\n",
    "import numpy.linalg as npla\n",
    "import scipy\n",
    "import scipy.sparse.linalg as spla\n",
    "from scipy import sparse\n",
    "from scipy import linalg\n",
    "import matplotlib.pyplot as plt\n",
    "from matplotlib import cm\n",
    "from mpl_toolkits.mplot3d import axes3d\n",
    "import struct\n",
    "# %matplotlib tk"
   ]
  },
  {
   "cell_type": "code",
   "execution_count": 13,
   "metadata": {},
   "outputs": [],
   "source": [
    "def Lsolve(L, b, unit_diag = False):\n",
    "    \"\"\"Forward solve a unit lower triangular system Ly = b for y\n",
    "    Parameters: \n",
    "      L: the matrix, must be square, lower triangular, with ones on the diagonal\n",
    "      b: the right-hand side vector\n",
    "        unit_diag = False: if true, assume the diagonal is all ones\n",
    "    Output:\n",
    "      y: the solution vector to L @ y == b\n",
    "    \"\"\"\n",
    "    # Check the input\n",
    "    m, n = L.shape\n",
    "    assert m == n, \"matrix must be square\"\n",
    "    assert np.all(np.tril(L) == L), \"matrix L must be lower triangular\"\n",
    "    if unit_diag:\n",
    "        assert np.all(np.diag(L) == 1), \"matrix L must have ones on the diagonal\"\n",
    "    bn, = b.shape\n",
    "    assert bn == n, \"rhs vector must be same size as L\"\n",
    "\n",
    "    # Make a copy of b that we will transform into the solution\n",
    "    y = b.astype(np.float64).copy()\n",
    "    \n",
    "    # Forward solve\n",
    "    for col in range(n):\n",
    "        if not unit_diag:\n",
    "            y[col] /= L[col, col]\n",
    "        y[col+1:] -= y[col] * L[col+1:, col]\n",
    "        \n",
    "    return y"
   ]
  },
  {
   "cell_type": "code",
   "execution_count": 14,
   "metadata": {},
   "outputs": [],
   "source": [
    "def Usolve(U, y, unit_diag = False):\n",
    "    \"\"\"Backward solve an upper triangular system Ux = y for x\n",
    "    Parameters: \n",
    "      U: the matrix, must be square, upper triangular, with nonzeros on the diagonal\n",
    "      y: the right-hand side vector\n",
    "      unit_diag = False: if true, assume the diagonal is all ones\n",
    "    Output:\n",
    "      x: the solution vector to U @ x == y\n",
    "    \"\"\"\n",
    "    # Check the input\n",
    "    m, n = U.shape\n",
    "    assert m == n, \"matrix must be square\"\n",
    "    assert np.all(np.triu(U) == U), \"matrix U must be upper triangular\"\n",
    "    if unit_diag:\n",
    "        assert np.all(np.diag(U) == 1), \"matrix U must have ones on the diagonal\"\n",
    "    yn, = y.shape\n",
    "    assert yn == n, \"rhs vector must be same size as U\"\n",
    "    \n",
    "    # Make a copy of y that we will transform into the solution\n",
    "    x = y.astype(np.float64).copy()\n",
    "    \n",
    "    # Back solve\n",
    "    for col in reversed(range(n)):\n",
    "        if not unit_diag:\n",
    "            x[col] /= U[col, col]\n",
    "        x[:col] -= x[col] * U[:col, col]\n",
    "        \n",
    "    return x"
   ]
  },
  {
   "cell_type": "code",
   "execution_count": 55,
   "metadata": {},
   "outputs": [],
   "source": [
    "bits = {'0':'0000', '1':'0001', '2':'0010', '3':'0011', \n",
    "        '4':'0100', '5':'0101', '6':'0110', '7':'0111', \n",
    "        '8':'1000', '9':'1001', 'a':'1010', 'b':'1011', \n",
    "        'c':'1100', 'd':'1101', 'e':'1110', 'f':'1111'}\n",
    "\n",
    "drop = {'0':'0', '1':'1', '2':'2', '3':'3', '4':'4', '5':'5', '6':'6', '7':'7', \n",
    "        '8':'0', '9':'1', 'a':'2', 'b':'3', 'c':'4', 'd':'5', 'e':'6', 'f':'7'}\n",
    "\n",
    "def double_to_hex(f):\n",
    "    s = hex(struct.unpack('<Q', struct.pack('<d', f))[0])\n",
    "    s = s[2:]           # remove the 0x prefix\n",
    "    while len(s) < 16:  # pad with zeros\n",
    "        s = '0' + s\n",
    "    return s\n",
    "\n",
    "def fprint(x):\n",
    "    \"\"\"Print a 64-bit floating-point number in various formats.\n",
    "    \"\"\"\n",
    "    print('input     :', x)\n",
    "    # Cast the input to a 64-bit float\n",
    "    x = np.float64(x)\n",
    "    xhex = double_to_hex(x)\n",
    "    print('as float64: {:.16e}'.format(x))\n",
    "    print('as hex    : ' + xhex)\n",
    "    if bits[xhex[0]][0] == '0':\n",
    "        sign = '0 means +'\n",
    "    else:\n",
    "        sign = '1 means -'\n",
    "    print('sign      :', sign)\n",
    "    expostr = drop[xhex[0]] + xhex[1:3]\n",
    "    expo = int(expostr, 16)\n",
    "    if expo == 0:\n",
    "        print('exponent  :', expostr, 'means zero or denormal')\n",
    "    elif expo == 2047:\n",
    "        print('exponent  :', expostr, 'means inf or nan')\n",
    "    else:\n",
    "        print('exponent  :', expostr, 'means', expo, '- 1023 =', expo - 1023)\n",
    "        mantissa = '1.'\n",
    "        for i in range(3,16):\n",
    "            mantissa = mantissa + bits[xhex[i]]\n",
    "        print('mantissa  :', mantissa)\n",
    "    print()"
   ]
  },
  {
   "cell_type": "code",
   "execution_count": 8,
   "metadata": {},
   "outputs": [],
   "source": [
    "date = np.array(range(1900,2020,10))-1900\n",
    "population = 1000 * np.array([ 75995, 91972, 105711, 123203, 131669, 150697, 179323, \n",
    "                              203212, 226505, 249633, 281422, 308746])"
   ]
  },
  {
   "cell_type": "code",
   "execution_count": 24,
   "metadata": {},
   "outputs": [],
   "source": [
    "A = np.ones((12,3))\n",
    "A[:,1]=date\n",
    "A[:,2]=date*date\n",
    "#q, r = npla.qr(A)\n",
    "#x1 = Usolve(r, q.T@population)\n",
    "x = npla.lstsq(A, population, rcond = None)[0]"
   ]
  },
  {
   "cell_type": "code",
   "execution_count": 29,
   "metadata": {},
   "outputs": [
    {
     "data": {
      "text/plain": [
       "<matplotlib.legend.Legend at 0xa1594fb38>"
      ]
     },
     "execution_count": 29,
     "metadata": {},
     "output_type": "execute_result"
    },
    {
     "data": {
      "image/png": "[encoded data removed]",
      "text/plain": [
       "<Figure size 432x288 with 1 Axes>"
      ]
     },
     "metadata": {
      "needs_background": "light"
     },
     "output_type": "display_data"
    }
   ],
   "source": [
    "%matplotlib inline\n",
    "plt.figure()\n",
    "plt.plot(date,population,'.')\n",
    "polyx = np.linspace(0,120,num=100)\n",
    "polyy = x[0] + x[1]*polyx + x[2]*polyx*polyx\n",
    "\n",
    "plt.plot(polyx,polyy)\n",
    "plt.xlabel('date')\n",
    "plt.ylabel('population')\n",
    "plt.legend(('observations', 'linear fit'))"
   ]
  },
  {
   "cell_type": "code",
   "execution_count": 30,
   "metadata": {},
   "outputs": [
    {
     "name": "stdout",
     "output_type": "stream",
     "text": [
      "342047136.3636383\n"
     ]
    }
   ],
   "source": [
    "P2020 = x[0]+(2020-1900)*x[1]+x[2]*(2020-1900)**2\n",
    "print(P2020)"
   ]
  },
  {
   "cell_type": "code",
   "execution_count": 42,
   "metadata": {},
   "outputs": [],
   "source": [
    "def plot(degree, date, population):\n",
    "    A = np.ones((12,degree+1))\n",
    "    for i in range(1,degree+1):\n",
    "        A[:,i] = date**i\n",
    "    x = npla.lstsq(A, population, rcond = None)[0]\n",
    "    P2020 = x[0]\n",
    "    for i in range(1, degree+1):\n",
    "        P2020+=x[i]*(2020-1900)**i\n",
    "    print(P2020)\n",
    "    %matplotlib inline\n",
    "    plt.figure()\n",
    "    plt.plot(date,population,'.')\n",
    "    polyx = np.linspace(0,120,num=100)\n",
    "    polyy = x[0]\n",
    "    for i in range(1, degree+1):\n",
    "        polyy+=x[i]*polyx**i\n",
    "        \n",
    "    plt.plot(polyx,polyy)\n",
    "    plt.xlabel('date after 1900')\n",
    "    plt.ylabel('population')\n",
    "    plt.legend(('observations', 'linear fit'))"
   ]
  },
  {
   "cell_type": "code",
   "execution_count": 45,
   "metadata": {},
   "outputs": [
    {
     "name": "stdout",
     "output_type": "stream",
     "text": [
      "342047136.3636383\n"
     ]
    },
    {
     "data": {
      "image/png": "[encoded data removed]",
      "text/plain": [
       "<Figure size 432x288 with 1 Axes>"
      ]
     },
     "metadata": {
      "needs_background": "light"
     },
     "output_type": "display_data"
    }
   ],
   "source": [
    "plot(2, date, population)"
   ]
  },
  {
   "cell_type": "code",
   "execution_count": 47,
   "metadata": {},
   "outputs": [
    {
     "name": "stdout",
     "output_type": "stream",
     "text": [
      "341124797.9795571\n"
     ]
    },
    {
     "data": {
      "image/png": "[encoded data removed]",
      "text/plain": [
       "<Figure size 432x288 with 1 Axes>"
      ]
     },
     "metadata": {
      "needs_background": "light"
     },
     "output_type": "display_data"
    }
   ],
   "source": [
    "plot(3, date, population)"
   ]
  },
  {
   "cell_type": "code",
   "execution_count": 48,
   "metadata": {},
   "outputs": [
    {
     "name": "stdout",
     "output_type": "stream",
     "text": [
      "348063859.1336825\n"
     ]
    },
    {
     "data": {
      "image/png": "[encoded data removed]",
      "text/plain": [
       "<Figure size 432x288 with 1 Axes>"
      ]
     },
     "metadata": {
      "needs_background": "light"
     },
     "output_type": "display_data"
    }
   ],
   "source": [
    "plot(5, date, population)"
   ]
  },
  {
   "cell_type": "code",
   "execution_count": 49,
   "metadata": {},
   "outputs": [
    {
     "name": "stdout",
     "output_type": "stream",
     "text": [
      "267999484.6031189\n"
     ]
    },
    {
     "data": {
      "image/png": "[encoded data removed]",
      "text/plain": [
       "<Figure size 432x288 with 1 Axes>"
      ]
     },
     "metadata": {
      "needs_background": "light"
     },
     "output_type": "display_data"
    }
   ],
   "source": [
    "plot(7, date, population)"
   ]
  },
  {
   "cell_type": "code",
   "execution_count": 51,
   "metadata": {},
   "outputs": [
    {
     "name": "stdout",
     "output_type": "stream",
     "text": [
      "-544040423.7277832\n"
     ]
    },
    {
     "data": {
      "image/png": "[encoded data removed]",
      "text/plain": [
       "<Figure size 432x288 with 1 Axes>"
      ]
     },
     "metadata": {
      "needs_background": "light"
     },
     "output_type": "display_data"
    }
   ],
   "source": [
    "plot(8, date, population)"
   ]
  },
  {
   "cell_type": "code",
   "execution_count": 54,
   "metadata": {},
   "outputs": [
    {
     "data": {
      "text/plain": [
       "1024"
      ]
     },
     "execution_count": 54,
     "metadata": {},
     "output_type": "execute_result"
    }
   ],
   "source": [
    "2**10"
   ]
  },
  {
   "cell_type": "code",
   "execution_count": 60,
   "metadata": {},
   "outputs": [
    {
     "name": "stdout",
     "output_type": "stream",
     "text": [
      "input     : 1.0\n",
      "as float64: 1.0000000000000000e+00\n",
      "as hex    : 3ff0000000000000\n",
      "sign      : 0 means +\n",
      "exponent  : 3ff means 1023 - 1023 = 0\n",
      "mantissa  : 1.0000000000000000000000000000000000000000000000000000\n",
      "\n",
      "input     : 0.5\n",
      "as float64: 5.0000000000000000e-01\n",
      "as hex    : 3fe0000000000000\n",
      "sign      : 0 means +\n",
      "exponent  : 3fe means 1022 - 1023 = -1\n",
      "mantissa  : 1.0000000000000000000000000000000000000000000000000000\n",
      "\n",
      "input     : 0.25\n",
      "as float64: 2.5000000000000000e-01\n",
      "as hex    : 3fd0000000000000\n",
      "sign      : 0 means +\n",
      "exponent  : 3fd means 1021 - 1023 = -2\n",
      "mantissa  : 1.0000000000000000000000000000000000000000000000000000\n",
      "\n",
      "input     : 0.125\n",
      "as float64: 1.2500000000000000e-01\n",
      "as hex    : 3fc0000000000000\n",
      "sign      : 0 means +\n",
      "exponent  : 3fc means 1020 - 1023 = -3\n",
      "mantissa  : 1.0000000000000000000000000000000000000000000000000000\n",
      "\n",
      "input     : 0.0625\n",
      "as float64: 6.2500000000000000e-02\n",
      "as hex    : 3fb0000000000000\n",
      "sign      : 0 means +\n",
      "exponent  : 3fb means 1019 - 1023 = -4\n",
      "mantissa  : 1.0000000000000000000000000000000000000000000000000000\n",
      "\n",
      "input     : 0.03125\n",
      "as float64: 3.1250000000000000e-02\n",
      "as hex    : 3fa0000000000000\n",
      "sign      : 0 means +\n",
      "exponent  : 3fa means 1018 - 1023 = -5\n",
      "mantissa  : 1.0000000000000000000000000000000000000000000000000000\n",
      "\n",
      "input     : 0.015625\n",
      "as float64: 1.5625000000000000e-02\n",
      "as hex    : 3f90000000000000\n",
      "sign      : 0 means +\n",
      "exponent  : 3f9 means 1017 - 1023 = -6\n",
      "mantissa  : 1.0000000000000000000000000000000000000000000000000000\n",
      "\n",
      "input     : 0.0078125\n",
      "as float64: 7.8125000000000000e-03\n",
      "as hex    : 3f80000000000000\n",
      "sign      : 0 means +\n",
      "exponent  : 3f8 means 1016 - 1023 = -7\n",
      "mantissa  : 1.0000000000000000000000000000000000000000000000000000\n",
      "\n",
      "input     : 0.00390625\n",
      "as float64: 3.9062500000000000e-03\n",
      "as hex    : 3f70000000000000\n",
      "sign      : 0 means +\n",
      "exponent  : 3f7 means 1015 - 1023 = -8\n",
      "mantissa  : 1.0000000000000000000000000000000000000000000000000000\n",
      "\n",
      "input     : 0.001953125\n",
      "as float64: 1.9531250000000000e-03\n",
      "as hex    : 3f60000000000000\n",
      "sign      : 0 means +\n",
      "exponent  : 3f6 means 1014 - 1023 = -9\n",
      "mantissa  : 1.0000000000000000000000000000000000000000000000000000\n",
      "\n",
      "input     : 0.0009765625\n",
      "as float64: 9.7656250000000000e-04\n",
      "as hex    : 3f50000000000000\n",
      "sign      : 0 means +\n",
      "exponent  : 3f5 means 1013 - 1023 = -10\n",
      "mantissa  : 1.0000000000000000000000000000000000000000000000000000\n",
      "\n",
      "input     : 0.00048828125\n",
      "as float64: 4.8828125000000000e-04\n",
      "as hex    : 3f40000000000000\n",
      "sign      : 0 means +\n",
      "exponent  : 3f4 means 1012 - 1023 = -11\n",
      "mantissa  : 1.0000000000000000000000000000000000000000000000000000\n",
      "\n",
      "input     : 0.000244140625\n",
      "as float64: 2.4414062500000000e-04\n",
      "as hex    : 3f30000000000000\n",
      "sign      : 0 means +\n",
      "exponent  : 3f3 means 1011 - 1023 = -12\n",
      "mantissa  : 1.0000000000000000000000000000000000000000000000000000\n",
      "\n",
      "input     : 0.0001220703125\n",
      "as float64: 1.2207031250000000e-04\n",
      "as hex    : 3f20000000000000\n",
      "sign      : 0 means +\n",
      "exponent  : 3f2 means 1010 - 1023 = -13\n",
      "mantissa  : 1.0000000000000000000000000000000000000000000000000000\n",
      "\n",
      "input     : 6.103515625e-05\n",
      "as float64: 6.1035156250000000e-05\n",
      "as hex    : 3f10000000000000\n",
      "sign      : 0 means +\n",
      "exponent  : 3f1 means 1009 - 1023 = -14\n",
      "mantissa  : 1.0000000000000000000000000000000000000000000000000000\n",
      "\n",
      "input     : 3.0517578125e-05\n",
      "as float64: 3.0517578125000000e-05\n",
      "as hex    : 3f00000000000000\n",
      "sign      : 0 means +\n",
      "exponent  : 3f0 means 1008 - 1023 = -15\n",
      "mantissa  : 1.0000000000000000000000000000000000000000000000000000\n",
      "\n",
      "input     : 1.52587890625e-05\n",
      "as float64: 1.5258789062500000e-05\n",
      "as hex    : 3ef0000000000000\n",
      "sign      : 0 means +\n",
      "exponent  : 3ef means 1007 - 1023 = -16\n",
      "mantissa  : 1.0000000000000000000000000000000000000000000000000000\n",
      "\n",
      "input     : 7.62939453125e-06\n",
      "as float64: 7.6293945312500000e-06\n",
      "as hex    : 3ee0000000000000\n",
      "sign      : 0 means +\n",
      "exponent  : 3ee means 1006 - 1023 = -17\n",
      "mantissa  : 1.0000000000000000000000000000000000000000000000000000\n",
      "\n",
      "input     : 3.814697265625e-06\n",
      "as float64: 3.8146972656250000e-06\n",
      "as hex    : 3ed0000000000000\n",
      "sign      : 0 means +\n",
      "exponent  : 3ed means 1005 - 1023 = -18\n",
      "mantissa  : 1.0000000000000000000000000000000000000000000000000000\n",
      "\n",
      "input     : 1.9073486328125e-06\n",
      "as float64: 1.9073486328125000e-06\n",
      "as hex    : 3ec0000000000000\n",
      "sign      : 0 means +\n",
      "exponent  : 3ec means 1004 - 1023 = -19\n",
      "mantissa  : 1.0000000000000000000000000000000000000000000000000000\n",
      "\n",
      "input     : 9.5367431640625e-07\n",
      "as float64: 9.5367431640625000e-07\n",
      "as hex    : 3eb0000000000000\n",
      "sign      : 0 means +\n",
      "exponent  : 3eb means 1003 - 1023 = -20\n",
      "mantissa  : 1.0000000000000000000000000000000000000000000000000000\n",
      "\n",
      "input     : 4.76837158203125e-07\n",
      "as float64: 4.7683715820312500e-07\n",
      "as hex    : 3ea0000000000000\n",
      "sign      : 0 means +\n",
      "exponent  : 3ea means 1002 - 1023 = -21\n",
      "mantissa  : 1.0000000000000000000000000000000000000000000000000000\n",
      "\n",
      "input     : 2.384185791015625e-07\n",
      "as float64: 2.3841857910156250e-07\n",
      "as hex    : 3e90000000000000\n",
      "sign      : 0 means +\n",
      "exponent  : 3e9 means 1001 - 1023 = -22\n",
      "mantissa  : 1.0000000000000000000000000000000000000000000000000000\n",
      "\n",
      "input     : 1.1920928955078125e-07\n",
      "as float64: 1.1920928955078125e-07\n",
      "as hex    : 3e80000000000000\n",
      "sign      : 0 means +\n",
      "exponent  : 3e8 means 1000 - 1023 = -23\n",
      "mantissa  : 1.0000000000000000000000000000000000000000000000000000\n",
      "\n",
      "input     : 5.960464477539063e-08\n",
      "as float64: 5.9604644775390625e-08\n",
      "as hex    : 3e70000000000000\n",
      "sign      : 0 means +\n",
      "exponent  : 3e7 means 999 - 1023 = -24\n",
      "mantissa  : 1.0000000000000000000000000000000000000000000000000000\n",
      "\n",
      "input     : 2.9802322387695312e-08\n",
      "as float64: 2.9802322387695312e-08\n",
      "as hex    : 3e60000000000000\n",
      "sign      : 0 means +\n",
      "exponent  : 3e6 means 998 - 1023 = -25\n",
      "mantissa  : 1.0000000000000000000000000000000000000000000000000000\n",
      "\n",
      "input     : 1.4901161193847656e-08\n",
      "as float64: 1.4901161193847656e-08\n",
      "as hex    : 3e50000000000000\n",
      "sign      : 0 means +\n",
      "exponent  : 3e5 means 997 - 1023 = -26\n",
      "mantissa  : 1.0000000000000000000000000000000000000000000000000000\n",
      "\n",
      "input     : 7.450580596923828e-09\n",
      "as float64: 7.4505805969238281e-09\n",
      "as hex    : 3e40000000000000\n",
      "sign      : 0 means +\n",
      "exponent  : 3e4 means 996 - 1023 = -27\n",
      "mantissa  : 1.0000000000000000000000000000000000000000000000000000\n",
      "\n",
      "input     : 3.725290298461914e-09\n",
      "as float64: 3.7252902984619141e-09\n",
      "as hex    : 3e30000000000000\n",
      "sign      : 0 means +\n",
      "exponent  : 3e3 means 995 - 1023 = -28\n",
      "mantissa  : 1.0000000000000000000000000000000000000000000000000000\n",
      "\n",
      "input     : 1.862645149230957e-09\n",
      "as float64: 1.8626451492309570e-09\n",
      "as hex    : 3e20000000000000\n",
      "sign      : 0 means +\n",
      "exponent  : 3e2 means 994 - 1023 = -29\n",
      "mantissa  : 1.0000000000000000000000000000000000000000000000000000\n",
      "\n",
      "input     : 9.313225746154785e-10\n",
      "as float64: 9.3132257461547852e-10\n",
      "as hex    : 3e10000000000000\n",
      "sign      : 0 means +\n",
      "exponent  : 3e1 means 993 - 1023 = -30\n",
      "mantissa  : 1.0000000000000000000000000000000000000000000000000000\n",
      "\n",
      "input     : 4.656612873077393e-10\n",
      "as float64: 4.6566128730773926e-10\n",
      "as hex    : 3e00000000000000\n",
      "sign      : 0 means +\n",
      "exponent  : 3e0 means 992 - 1023 = -31\n",
      "mantissa  : 1.0000000000000000000000000000000000000000000000000000\n",
      "\n",
      "input     : 2.3283064365386963e-10\n",
      "as float64: 2.3283064365386963e-10\n",
      "as hex    : 3df0000000000000\n",
      "sign      : 0 means +\n",
      "exponent  : 3df means 991 - 1023 = -32\n",
      "mantissa  : 1.0000000000000000000000000000000000000000000000000000\n",
      "\n",
      "input     : 1.1641532182693481e-10\n",
      "as float64: 1.1641532182693481e-10\n",
      "as hex    : 3de0000000000000\n",
      "sign      : 0 means +\n",
      "exponent  : 3de means 990 - 1023 = -33\n",
      "mantissa  : 1.0000000000000000000000000000000000000000000000000000\n",
      "\n",
      "input     : 5.820766091346741e-11\n",
      "as float64: 5.8207660913467407e-11\n",
      "as hex    : 3dd0000000000000\n",
      "sign      : 0 means +\n",
      "exponent  : 3dd means 989 - 1023 = -34\n",
      "mantissa  : 1.0000000000000000000000000000000000000000000000000000\n",
      "\n",
      "input     : 2.9103830456733704e-11\n",
      "as float64: 2.9103830456733704e-11\n",
      "as hex    : 3dc0000000000000\n",
      "sign      : 0 means +\n",
      "exponent  : 3dc means 988 - 1023 = -35\n",
      "mantissa  : 1.0000000000000000000000000000000000000000000000000000\n",
      "\n",
      "input     : 1.4551915228366852e-11\n",
      "as float64: 1.4551915228366852e-11\n",
      "as hex    : 3db0000000000000\n",
      "sign      : 0 means +\n",
      "exponent  : 3db means 987 - 1023 = -36\n",
      "mantissa  : 1.0000000000000000000000000000000000000000000000000000\n",
      "\n",
      "input     : 7.275957614183426e-12\n",
      "as float64: 7.2759576141834259e-12\n",
      "as hex    : 3da0000000000000\n",
      "sign      : 0 means +\n",
      "exponent  : 3da means 986 - 1023 = -37\n",
      "mantissa  : 1.0000000000000000000000000000000000000000000000000000\n",
      "\n",
      "input     : 3.637978807091713e-12\n",
      "as float64: 3.6379788070917130e-12\n",
      "as hex    : 3d90000000000000\n",
      "sign      : 0 means +\n",
      "exponent  : 3d9 means 985 - 1023 = -38\n",
      "mantissa  : 1.0000000000000000000000000000000000000000000000000000\n",
      "\n",
      "input     : 1.8189894035458565e-12\n",
      "as float64: 1.8189894035458565e-12\n",
      "as hex    : 3d80000000000000\n",
      "sign      : 0 means +\n",
      "exponent  : 3d8 means 984 - 1023 = -39\n",
      "mantissa  : 1.0000000000000000000000000000000000000000000000000000\n",
      "\n",
      "input     : 9.094947017729282e-13\n",
      "as float64: 9.0949470177292824e-13\n",
      "as hex    : 3d70000000000000\n",
      "sign      : 0 means +\n",
      "exponent  : 3d7 means 983 - 1023 = -40\n",
      "mantissa  : 1.0000000000000000000000000000000000000000000000000000\n",
      "\n",
      "input     : 4.547473508864641e-13\n",
      "as float64: 4.5474735088646412e-13\n",
      "as hex    : 3d60000000000000\n",
      "sign      : 0 means +\n",
      "exponent  : 3d6 means 982 - 1023 = -41\n",
      "mantissa  : 1.0000000000000000000000000000000000000000000000000000\n",
      "\n",
      "input     : 2.2737367544323206e-13\n",
      "as float64: 2.2737367544323206e-13\n",
      "as hex    : 3d50000000000000\n",
      "sign      : 0 means +\n",
      "exponent  : 3d5 means 981 - 1023 = -42\n",
      "mantissa  : 1.0000000000000000000000000000000000000000000000000000\n",
      "\n",
      "input     : 1.1368683772161603e-13\n",
      "as float64: 1.1368683772161603e-13\n",
      "as hex    : 3d40000000000000\n",
      "sign      : 0 means +\n",
      "exponent  : 3d4 means 980 - 1023 = -43\n",
      "mantissa  : 1.0000000000000000000000000000000000000000000000000000\n",
      "\n",
      "input     : 5.684341886080802e-14\n",
      "as float64: 5.6843418860808015e-14\n",
      "as hex    : 3d30000000000000\n",
      "sign      : 0 means +\n",
      "exponent  : 3d3 means 979 - 1023 = -44\n",
      "mantissa  : 1.0000000000000000000000000000000000000000000000000000\n",
      "\n",
      "input     : 2.842170943040401e-14\n",
      "as float64: 2.8421709430404007e-14\n",
      "as hex    : 3d20000000000000\n",
      "sign      : 0 means +\n",
      "exponent  : 3d2 means 978 - 1023 = -45\n",
      "mantissa  : 1.0000000000000000000000000000000000000000000000000000\n",
      "\n",
      "input     : 1.4210854715202004e-14\n",
      "as float64: 1.4210854715202004e-14\n",
      "as hex    : 3d10000000000000\n",
      "sign      : 0 means +\n",
      "exponent  : 3d1 means 977 - 1023 = -46\n",
      "mantissa  : 1.0000000000000000000000000000000000000000000000000000\n",
      "\n",
      "input     : 7.105427357601002e-15\n",
      "as float64: 7.1054273576010019e-15\n",
      "as hex    : 3d00000000000000\n",
      "sign      : 0 means +\n",
      "exponent  : 3d0 means 976 - 1023 = -47\n",
      "mantissa  : 1.0000000000000000000000000000000000000000000000000000\n",
      "\n",
      "input     : 3.552713678800501e-15\n",
      "as float64: 3.5527136788005009e-15\n",
      "as hex    : 3cf0000000000000\n",
      "sign      : 0 means +\n",
      "exponent  : 3cf means 975 - 1023 = -48\n",
      "mantissa  : 1.0000000000000000000000000000000000000000000000000000\n",
      "\n",
      "input     : 1.7763568394002505e-15\n",
      "as float64: 1.7763568394002505e-15\n",
      "as hex    : 3ce0000000000000\n",
      "sign      : 0 means +\n",
      "exponent  : 3ce means 974 - 1023 = -49\n",
      "mantissa  : 1.0000000000000000000000000000000000000000000000000000\n",
      "\n",
      "input     : 8.881784197001252e-16\n",
      "as float64: 8.8817841970012523e-16\n",
      "as hex    : 3cd0000000000000\n",
      "sign      : 0 means +\n",
      "exponent  : 3cd means 973 - 1023 = -50\n",
      "mantissa  : 1.0000000000000000000000000000000000000000000000000000\n",
      "\n",
      "input     : 4.440892098500626e-16\n",
      "as float64: 4.4408920985006262e-16\n",
      "as hex    : 3cc0000000000000\n",
      "sign      : 0 means +\n",
      "exponent  : 3cc means 972 - 1023 = -51\n",
      "mantissa  : 1.0000000000000000000000000000000000000000000000000000\n",
      "\n",
      "input     : 2.220446049250313e-16\n",
      "as float64: 2.2204460492503131e-16\n",
      "as hex    : 3cb0000000000000\n",
      "sign      : 0 means +\n",
      "exponent  : 3cb means 971 - 1023 = -52\n",
      "mantissa  : 1.0000000000000000000000000000000000000000000000000000\n",
      "\n",
      "input     : 1.1102230246251565e-16\n",
      "as float64: 1.1102230246251565e-16\n",
      "as hex    : 3ca0000000000000\n",
      "sign      : 0 means +\n",
      "exponent  : 3ca means 970 - 1023 = -53\n",
      "mantissa  : 1.0000000000000000000000000000000000000000000000000000\n",
      "\n",
      "input     : 1.1102230246251565e-16\n",
      "as float64: 1.1102230246251565e-16\n",
      "as hex    : 3ca0000000000000\n",
      "sign      : 0 means +\n",
      "exponent  : 3ca means 970 - 1023 = -53\n",
      "mantissa  : 1.0000000000000000000000000000000000000000000000000000\n",
      "\n",
      "reach\n"
     ]
    }
   ],
   "source": [
    "x = 1.0\n",
    "for i in range(60):\n",
    "    fprint(x)\n",
    "    if 1.0 == (1.0+x): \n",
    "        fprint(x);\n",
    "        print(\"reach\")\n",
    "        break\n",
    "    x = x/2."
   ]
  },
  {
   "cell_type": "code",
   "execution_count": null,
   "metadata": {},
   "outputs": [],
   "source": [
    "2**(-53)-10**(-16)"
   ]
  },
  {
   "cell_type": "code",
   "execution_count": null,
   "metadata": {},
   "outputs": [],
   "source": [
    "x=1/(2**(-53))"
   ]
  },
  {
   "cell_type": "code",
   "execution_count": null,
   "metadata": {},
   "outputs": [],
   "source": [
    "fprint(x)"
   ]
  },
  {
   "cell_type": "code",
   "execution_count": null,
   "metadata": {},
   "outputs": [],
   "source": [
    "2**(1023)*(2-2**(-52))"
   ]
  },
  {
   "cell_type": "code",
   "execution_count": null,
   "metadata": {},
   "outputs": [],
   "source": [
    "x=2**(-53)"
   ]
  },
  {
   "cell_type": "code",
   "execution_count": null,
   "metadata": {},
   "outputs": [],
   "source": [
    "print(x)"
   ]
  },
  {
   "cell_type": "code",
   "execution_count": null,
   "metadata": {},
   "outputs": [],
   "source": []
  }
 ],
 "metadata": {
  "kernelspec": {
   "display_name": "Python 3",
   "language": "python",
   "name": "python3"
  },
  "language_info": {
   "codemirror_mode": {
    "name": "ipython",
    "version": 3
   },
   "file_extension": ".py",
   "mimetype": "text/x-python",
   "name": "python",
   "nbconvert_exporter": "python",
   "pygments_lexer": "ipython3",
   "version": "3.7.1"
  }
 },
 "nbformat": 4,
 "nbformat_minor": 2
}
