{
 "cells": [
  {
   "cell_type": "code",
   "execution_count": 2,
   "metadata": {},
   "outputs": [],
   "source": [
    "import os\n",
    "import math\n",
    "import numpy as np\n",
    "import numpy.linalg as npla\n",
    "import scipy\n",
    "import scipy.sparse.linalg as spla\n",
    "from scipy import sparse\n",
    "from scipy import linalg\n",
    "import matplotlib.pyplot as plt\n",
    "from matplotlib import cm\n",
    "from mpl_toolkits.mplot3d import axes3d\n",
    "# %matplotlib tk"
   ]
  },
  {
   "cell_type": "code",
   "execution_count": 2,
   "metadata": {},
   "outputs": [],
   "source": [
    "from scipy import sparse\n",
    "\n",
    "def make_A_3D(k):\n",
    "    \"\"\"\n",
    "    Create the matrix for the temperature problem on a k-by-k-by-k 3D grid.\n",
    "    Parameters:\n",
    "        k: number of grid points in each dimension.\n",
    "    Outputs:\n",
    "        A: the sparse k**3-by-k**3 matrix representing the finite difference approximation to Poisson's equation.\n",
    "    \"\"\"\n",
    "    triples = []\n",
    "    for l in range(k): #level\n",
    "        for r in range(k): #row\n",
    "            for c in range(k): #col\n",
    "                row = c + r*k + l*k*k\n",
    "                triples.append((row,row, 6.0))\n",
    "                #connect to left\n",
    "                if c>0:\n",
    "                    triples.append((row,row-1,-1.0))\n",
    "                #connect to right\n",
    "                if c<k-1:\n",
    "                    triples.append((row,row+1,-1.0))\n",
    "                #connect to last row\n",
    "                if r>0:\n",
    "                    triples.append((row,row-k,-1.0))\n",
    "                #connect to next row\n",
    "                if r<k-1:\n",
    "                    triples.append((row,row+k,-1.0))\n",
    "                #connect to last level\n",
    "                if l>0:\n",
    "                    triples.append((row,row-k*k,-1.0))\n",
    "                if l<k-1:\n",
    "                    triples.append((row,row+k*k,-1.0))\n",
    "    #convert list of triples to a scipy sparse matrix\n",
    "    ndim = k*k*k\n",
    "    rownum = [t[0] for t in triples]\n",
    "    colnum = [t[1] for t in triples]\n",
    "    values = [t[2] for t in triples]\n",
    "    A = sparse.csr_matrix((values,(rownum, colnum)), shape = (ndim, ndim))\n",
    "    \n",
    "    return A\n"
   ]
  },
  {
   "cell_type": "code",
   "execution_count": 3,
   "metadata": {},
   "outputs": [],
   "source": [
    "def LUfactor(A, pivoting = True):\n",
    "    \"\"\"Factor a square matrix with partial pivoting, A[p,:] == L @ U\n",
    "    Parameters: \n",
    "      A: the matrix.\n",
    "      pivoting = True: whether or not to do partial pivoting\n",
    "    Outputs (in order):\n",
    "      L: the lower triangular factor, same dimensions as A, with ones on the diagonal\n",
    "      U: the upper triangular factor, same dimensions as A\n",
    "      p: the permutation vector that permutes the rows of A by partial pivoting\n",
    "    \"\"\"\n",
    "    # Check the input\n",
    "    m, n = A.shape\n",
    "    assert m == n, 'input matrix A must be square'\n",
    "    \n",
    "    # Initialize p to be the identity permutation\n",
    "    p = np.array(range(n))\n",
    "    \n",
    "    # Make a copy of the matrix that we will transform into L and U\n",
    "    LU = A.astype(np.float64).copy()\n",
    "    \n",
    "    # Eliminate each column in turn\n",
    "    for piv_col in range(n):\n",
    "        \n",
    "        # Choose the pivot row and swap it into place\n",
    "        if pivoting:\n",
    "            piv_row = piv_col + np.argmax(np.abs(LU[piv_col:, piv_col]))\n",
    "            assert LU[piv_row, piv_col] != 0., \"can't find nonzero pivot, matrix is singular\"\n",
    "            LU[[piv_col, piv_row], :]  = LU[[piv_row, piv_col], :]\n",
    "            p[[piv_col, piv_row]]      = p[[piv_row, piv_col]]\n",
    "            \n",
    "        # Update the rest of the matrix\n",
    "        pivot = LU[piv_col, piv_col]\n",
    "        assert pivot != 0., \"pivot is zero, can't continue\"\n",
    "        for row in range(piv_col + 1, n):\n",
    "            multiplier = LU[row, piv_col] / pivot\n",
    "            LU[row, piv_col] = multiplier\n",
    "            LU[row, (piv_col+1):] -= multiplier * LU[piv_col, (piv_col+1):]\n",
    "            \n",
    "    # Separate L and U in the result\n",
    "    U = np.triu(LU)\n",
    "    L = LU - U + np.eye(n)\n",
    "    \n",
    "    return (L, U, p)"
   ]
  },
  {
   "cell_type": "code",
   "execution_count": 4,
   "metadata": {},
   "outputs": [],
   "source": [
    "def Lsolve(L, b, unit_diag = False):\n",
    "    \"\"\"Forward solve a unit lower triangular system Ly = b for y\n",
    "    Parameters: \n",
    "      L: the matrix, must be square, lower triangular, with ones on the diagonal\n",
    "      b: the right-hand side vector\n",
    "        unit_diag = False: if true, assume the diagonal is all ones\n",
    "    Output:\n",
    "      y: the solution vector to L @ y == b\n",
    "    \"\"\"\n",
    "    # Check the input\n",
    "    m, n = L.shape\n",
    "    assert m == n, \"matrix must be square\"\n",
    "    assert np.all(np.tril(L) == L), \"matrix L must be lower triangular\"\n",
    "    if unit_diag:\n",
    "        assert np.all(np.diag(L) == 1), \"matrix L must have ones on the diagonal\"\n",
    "    bn, = b.shape\n",
    "    assert bn == n, \"rhs vector must be same size as L\"\n",
    "\n",
    "    # Make a copy of b that we will transform into the solution\n",
    "    y = b.astype(np.float64).copy()\n",
    "    \n",
    "    # Forward solve\n",
    "    for col in range(n):\n",
    "        if not unit_diag:\n",
    "            y[col] /= L[col, col]\n",
    "        y[col+1:] -= y[col] * L[col+1:, col]\n",
    "        \n",
    "    return y"
   ]
  },
  {
   "cell_type": "code",
   "execution_count": 5,
   "metadata": {},
   "outputs": [],
   "source": [
    "def Usolve(U, y, unit_diag = False):\n",
    "    \"\"\"Backward solve an upper triangular system Ux = y for x\n",
    "    Parameters: \n",
    "      U: the matrix, must be square, upper triangular, with nonzeros on the diagonal\n",
    "      y: the right-hand side vector\n",
    "      unit_diag = False: if true, assume the diagonal is all ones\n",
    "    Output:\n",
    "      x: the solution vector to U @ x == y\n",
    "    \"\"\"\n",
    "    # Check the input\n",
    "    m, n = U.shape\n",
    "    assert m == n, \"matrix must be square\"\n",
    "    assert np.all(np.triu(U) == U), \"matrix U must be upper triangular\"\n",
    "    if unit_diag:\n",
    "        assert np.all(np.diag(U) == 1), \"matrix U must have ones on the diagonal\"\n",
    "    yn, = y.shape\n",
    "    assert yn == n, \"rhs vector must be same size as U\"\n",
    "    \n",
    "    # Make a copy of y that we will transform into the solution\n",
    "    x = y.astype(np.float64).copy()\n",
    "    \n",
    "    # Back solve\n",
    "    for col in reversed(range(n)):\n",
    "        if not unit_diag:\n",
    "            x[col] /= U[col, col]\n",
    "        x[:col] -= x[col] * U[:col, col]\n",
    "        \n",
    "    return x"
   ]
  },
  {
   "cell_type": "code",
   "execution_count": 6,
   "metadata": {},
   "outputs": [],
   "source": [
    "def LUsolve(A, b):\n",
    "    \"\"\"Solve a linear system Ax = b for x by LU factorization with partial pivoting.\n",
    "    Parameters: \n",
    "      A: the matrix.\n",
    "      b: the right-hand side\n",
    "    Outputs (in order):\n",
    "      x: the computed solution\n",
    "      rel_res: relative residual norm,\n",
    "        norm(b - Ax) / norm(b)\n",
    "    \"\"\"\n",
    "    # Check the input\n",
    "    m, n = A.shape\n",
    "    assert m == n, \"matrix must be square\"\n",
    "    bn, = b.shape\n",
    "    assert bn == n, \"rhs vector must be same size as matrix\"\n",
    "    \n",
    "    # LU factorization\n",
    "    L, U, p = LUfactor(A)\n",
    "    \n",
    "    # Forward and back substitution\n",
    "    y = Lsolve(L,b[p])\n",
    "    x = Usolve(U,y)\n",
    "    \n",
    "    # Residual norm\n",
    "    rel_res = npla.norm(b - A@x) / npla.norm(b)\n",
    "    \n",
    "    return (x, rel_res)"
   ]
  },
  {
   "cell_type": "code",
   "execution_count": 7,
   "metadata": {},
   "outputs": [],
   "source": [
    "def Jsolve(A, b, tol = 1e-8, max_iters = 1000, callback = None):\n",
    "    \"\"\"Solve a linear system Ax = b for x by the Jacobi iterative method.\n",
    "    Parameters: \n",
    "      A: the matrix.\n",
    "      b: the right-hand side vector.\n",
    "      tol = 1e-8: the relative residual at which to stop iterating.\n",
    "      max_iters = 1000: the maximum number of iterations to do. \n",
    "      callback = None: a user function to call at every iteration. \n",
    "        The callback function has arguments 'x', 'iteration', and 'residual'\n",
    "    Outputs (in order):\n",
    "      x: the computed solution\n",
    "      rel_res: list of relative residual norms at each iteration.\n",
    "        The number of iterations actually done is len(rel_res) - 1\n",
    "    \"\"\"\n",
    "    # Check the input\n",
    "    m, n = A.shape\n",
    "    assert m == n, \"matrix must be square\"\n",
    "    bn, = b.shape\n",
    "    assert bn == n, \"rhs vector must be same size as matrix\"\n",
    "\n",
    "    # Split A into diagonal D plus off-diagonal C\n",
    "    d = A.diagonal()         # diagonal elements of A as a vector\n",
    "    C = A.copy()             # copy of A ...\n",
    "    C.setdiag(np.zeros(n))   # ... without the diagonal\n",
    "    \n",
    "    # Initial guess: x = 0\n",
    "    x = np.zeros(n)\n",
    "\n",
    "    # Vector of relative residuals\n",
    "    # Relative residual is norm(residual)/norm(b)\n",
    "    # Intitial residual is b - Ax for x=0, or b\n",
    "    rel_res = [1.0]\n",
    "        \n",
    "    # Call user function if specified\n",
    "    if callback is not None:\n",
    "        callback(x = x, iteration = 0, residual = 1)\n",
    "\n",
    "    # Iterate\n",
    "    for k in range(1, max_iters+1):\n",
    "        # New x\n",
    "        x = (b - C @ x) / d\n",
    "\n",
    "        # Record relative residual\n",
    "        this_rel_res = npla.norm(b - A @ x) / npla.norm(b)\n",
    "        rel_res.append(this_rel_res)\n",
    "                \n",
    "        # Call user function if specified\n",
    "        if callback is not None:\n",
    "            callback(x = x, iteration = k, residual = this_rel_res)\n",
    "                        \n",
    "        # Stop if within tolerance    \n",
    "        if this_rel_res <= tol:\n",
    "            break\n",
    "            \n",
    "    return (x, rel_res)"
   ]
  },
  {
   "cell_type": "code",
   "execution_count": 8,
   "metadata": {},
   "outputs": [],
   "source": [
    "def make_A(k):\n",
    "    \"\"\"Create the matrix for the temperature problem on a k-by-k grid.\n",
    "    Parameters: \n",
    "      k: number of grid points in each dimension.\n",
    "    Outputs:\n",
    "      A: the sparse k**2-by-k**2 matrix representing the finite difference approximation to Poisson's equation.\n",
    "    \"\"\"\n",
    "    # First make a list with one triple (row, column, value) for each nonzero element of A\n",
    "    triples = []\n",
    "    for i in range(k):\n",
    "        for j in range(k):\n",
    "            # what row of the matrix is grid point (i,j)?\n",
    "            row = j + i*k\n",
    "            # the diagonal element in this row\n",
    "            triples.append((row, row, 4.0))\n",
    "            # connect to left grid neighbor\n",
    "            if j > 0:\n",
    "                triples.append((row, row - 1, -1.0))\n",
    "            # ... right neighbor\n",
    "            if j < k - 1:\n",
    "                triples.append((row, row + 1, -1.0))\n",
    "            # ... neighbor above\n",
    "            if i > 0:\n",
    "                triples.append((row, row - k, -1.0))\n",
    "            # ... neighbor below\n",
    "            if i < k - 1:\n",
    "                triples.append((row, row + k, -1.0))\n",
    "    \n",
    "    # Finally convert the list of triples to a scipy sparse matrix\n",
    "    ndim = k*k\n",
    "    rownum = [t[0] for t in triples]\n",
    "    colnum = [t[1] for t in triples]\n",
    "    values = [t[2] for t in triples]\n",
    "    A = sparse.csr_matrix((values, (rownum, colnum)), shape = (ndim, ndim))\n",
    "    \n",
    "    return A"
   ]
  },
  {
   "cell_type": "code",
   "execution_count": 9,
   "metadata": {},
   "outputs": [],
   "source": [
    "def CGsolve(A, b, tol = 1e-8, max_iters = 1000, callback = None):\n",
    "    \"\"\"Solve a linear system Ax = b for x by the conjugate gradient iterative method.\n",
    "    Parameters: \n",
    "      A: the matrix.\n",
    "      b: the right-hand side vector.\n",
    "      tol = 1e-8: the relative residual at which to stop iterating.\n",
    "      max_iters = 1000: the maximum number of iterations to do. \n",
    "      callback = None: a user function to call at every iteration, with one argument x\n",
    "    Outputs (in order):\n",
    "      x: the computed solution\n",
    "      rel_res: list of relative residual norms at each iteration.\n",
    "        The number of iterations actually done is len(rel_res) - 1\n",
    "    \"\"\"\n",
    "    # Check the input\n",
    "    m, n = A.shape\n",
    "    assert m == n, \"matrix must be square\"\n",
    "    bn, = b.shape\n",
    "    assert bn == n, \"rhs vector must be same size as matrix\"\n",
    "\n",
    "    # Initial guess: x = 0\n",
    "    x = np.zeros(n)\n",
    "    \n",
    "    # Initial residual: r = b - A@0 = b\n",
    "    r = b\n",
    " \n",
    "    # Initial step is in direction of residual.\n",
    "    d = r\n",
    "\n",
    "    # Squared norm of residual\n",
    "    rtr = r.T @ r\n",
    "    \n",
    "    # Vector of relative residuals\n",
    "    # Relative residual is norm(residual)/norm(b)\n",
    "    # Intitial residual is b - Ax for x=0, or b\n",
    "    rel_res = [1.0]\n",
    "    \n",
    "    # Call user function if specified\n",
    "    if callback is not None:\n",
    "        callback(x = x, iteration = 0, residual = 1)\n",
    "\n",
    "    # Iterate\n",
    "    for k in range(1, max_iters+1):\n",
    "        Ad = A @ d\n",
    "        alpha = rtr / (d.T @ Ad)  # Length of step\n",
    "        x = x + alpha * d         # Update x to new x\n",
    "        r = r - alpha * Ad        # Update r to new residual\n",
    "        rtrold = rtr \n",
    "        rtr = r.T @ r\n",
    "        beta = rtr / rtrold    \n",
    "        d = r + beta * d          # Update d to new step direction\n",
    "                   \n",
    "        # Record relative residual\n",
    "        this_rel_res = npla.norm(b - A @ x) / npla.norm(b)\n",
    "        rel_res.append(this_rel_res)\n",
    "                \n",
    "        # Call user function if specified\n",
    "        if callback is not None:\n",
    "            callback(x = x, iteration = k, residual = this_rel_res)\n",
    "                        \n",
    "        # Stop if within tolerance    \n",
    "        if this_rel_res <= tol:\n",
    "            break\n",
    "            \n",
    "    return (x, rel_res)"
   ]
  },
  {
   "cell_type": "code",
   "execution_count": 129,
   "metadata": {},
   "outputs": [
    {
     "name": "stdout",
     "output_type": "stream",
     "text": [
      "[[ 6. -1.  0. ...  0.  0.  0.]\n",
      " [-1.  6. -1. ...  0.  0.  0.]\n",
      " [ 0. -1.  6. ...  0.  0.  0.]\n",
      " ...\n",
      " [ 0.  0.  0. ...  6. -1.  0.]\n",
      " [ 0.  0.  0. ... -1.  6. -1.]\n",
      " [ 0.  0.  0. ...  0. -1.  6.]]\n"
     ]
    }
   ],
   "source": [
    "k = 5\n",
    "b = 10*np.round(np.random.rand(k*k*k))\n",
    "A = make_A_3D(k)\n",
    "print(A.todense())"
   ]
  },
  {
   "cell_type": "code",
   "execution_count": 130,
   "metadata": {},
   "outputs": [
    {
     "name": "stdout",
     "output_type": "stream",
     "text": [
      "cg residuals for each iteration: \n",
      "CPU times: user 3.28 ms, sys: 1.5 ms, total: 4.78 ms\n",
      "Wall time: 3.56 ms\n"
     ]
    }
   ],
   "source": [
    "%%time\n",
    "res = []\n",
    "def collect_residual(x):\n",
    "    res.append(npla.norm(A @ x - b) / npla.norm(b))\n",
    "x, n_iter = spla.cg(A, b, tol=1e-12,callback=collect_residual)\n",
    "print(\"cg residuals for each iteration: \")\n",
    "#for i in range(0, len(res), 100):\n",
    "#for i in range(len(res)):\n",
    "    #print(\"Iter\", i+1, \"rel_res:\", res[i])"
   ]
  },
  {
   "cell_type": "code",
   "execution_count": 131,
   "metadata": {},
   "outputs": [
    {
     "name": "stdout",
     "output_type": "stream",
     "text": [
      "CPU times: user 7.3 ms, sys: 2.4 ms, total: 9.69 ms\n",
      "Wall time: 7.7 ms\n"
     ]
    }
   ],
   "source": [
    "%%time\n",
    "X, res = Jsolve(A, b, tol = 1e-12, max_iters = 10000, callback = None)\n",
    "#for i in range(0, len(res), 100):\n",
    "#for i in range(len(res)):\n",
    "    #print(\"Iter\", i+1, \"rel_res:\", res[i])"
   ]
  },
  {
   "cell_type": "code",
   "execution_count": 132,
   "metadata": {},
   "outputs": [
    {
     "name": "stdout",
     "output_type": "stream",
     "text": [
      "CPU times: user 2.28 ms, sys: 1.1 ms, total: 3.38 ms\n",
      "Wall time: 2.32 ms\n"
     ]
    }
   ],
   "source": [
    "%%time\n",
    "X, rel_res = CGsolve(A, b, tol = 1e-12, max_iters = 400, callback = None)\n",
    "#print(\"x =\", Xcg[0])\n",
    "#for i in range(0, len(res), 100):\n",
    "#for i in range(len(rel_res)):\n",
    "    #print(\"Iter\", i+1, \"rel_res:\", rel_res[i])"
   ]
  },
  {
   "cell_type": "code",
   "execution_count": 133,
   "metadata": {},
   "outputs": [
    {
     "name": "stdout",
     "output_type": "stream",
     "text": [
      "CPU times: user 1.32 ms, sys: 1.1 ms, total: 2.42 ms\n",
      "Wall time: 1.12 ms\n"
     ]
    }
   ],
   "source": [
    "%%time\n",
    "x = spla.spsolve(A, b)\n",
    "res = npla.norm(A @ x - b) / npla.norm(b)\n",
    "#print(\"SPsolve residual :\", res)"
   ]
  },
  {
   "cell_type": "code",
   "execution_count": 134,
   "metadata": {},
   "outputs": [
    {
     "name": "stdout",
     "output_type": "stream",
     "text": [
      "CPU times: user 41.2 ms, sys: 4.22 ms, total: 45.4 ms\n",
      "Wall time: 42.5 ms\n"
     ]
    }
   ],
   "source": [
    "%%time\n",
    "x, res = LUsolve(np.array(A.todense()), b)\n",
    "#print(\"LUsolve rel_res :\", res)"
   ]
  },
  {
   "cell_type": "code",
   "execution_count": 10,
   "metadata": {},
   "outputs": [],
   "source": [
    "A = np.array([[1,3,2],[5,4,6],[6,2,7]])"
   ]
  },
  {
   "cell_type": "code",
   "execution_count": 11,
   "metadata": {},
   "outputs": [],
   "source": [
    "L,U,p = LUfactor(A)"
   ]
  },
  {
   "cell_type": "code",
   "execution_count": 13,
   "metadata": {},
   "outputs": [],
   "source": [
    "P = np.eye(A.shape[0])"
   ]
  },
  {
   "cell_type": "code",
   "execution_count": 15,
   "metadata": {},
   "outputs": [],
   "source": [
    "P = P[p]"
   ]
  },
  {
   "cell_type": "code",
   "execution_count": 17,
   "metadata": {},
   "outputs": [
    {
     "data": {
      "text/plain": [
       "array([[6., 2., 7.],\n",
       "       [1., 3., 2.],\n",
       "       [5., 4., 6.]])"
      ]
     },
     "execution_count": 17,
     "metadata": {},
     "output_type": "execute_result"
    }
   ],
   "source": [
    "P@A"
   ]
  },
  {
   "cell_type": "code",
   "execution_count": 18,
   "metadata": {},
   "outputs": [
    {
     "data": {
      "text/plain": [
       "array([[6, 2, 7],\n",
       "       [1, 3, 2],\n",
       "       [5, 4, 6]])"
      ]
     },
     "execution_count": 18,
     "metadata": {},
     "output_type": "execute_result"
    }
   ],
   "source": [
    "A[p]"
   ]
  },
  {
   "cell_type": "code",
   "execution_count": 19,
   "metadata": {},
   "outputs": [
    {
     "name": "stdout",
     "output_type": "stream",
     "text": [
      "[[0. 0. 0.]\n",
      " [0. 0. 0.]\n",
      " [0. 0. 0.]]\n"
     ]
    }
   ],
   "source": [
    "print(P@A - L@U)"
   ]
  },
  {
   "cell_type": "code",
   "execution_count": 21,
   "metadata": {},
   "outputs": [],
   "source": [
    "P = np.array([[0.,1.,0.,0.,0.],\n",
    " [0. ,0. ,0. ,1. ,0.],\n",
    " [0. ,0. ,0. ,0. ,1.],\n",
    " [0. ,0. ,1. ,0. ,0.],\n",
    " [1. ,0. ,0. ,0. ,0.]])"
   ]
  },
  {
   "cell_type": "code",
   "execution_count": 25,
   "metadata": {},
   "outputs": [],
   "source": [
    "A = np.round(10*np.random.rand(5,5))"
   ]
  },
  {
   "cell_type": "code",
   "execution_count": 26,
   "metadata": {},
   "outputs": [
    {
     "name": "stdout",
     "output_type": "stream",
     "text": [
      "[[10.  6. 10.  8.  9.]\n",
      " [ 7.  3.  4.  6.  7.]\n",
      " [ 7.  1.  6.  9.  6.]\n",
      " [ 2.  6.  7.  8.  7.]\n",
      " [ 6.  6.  5.  1.  3.]]\n"
     ]
    }
   ],
   "source": [
    "print(A)"
   ]
  },
  {
   "cell_type": "code",
   "execution_count": 27,
   "metadata": {},
   "outputs": [
    {
     "data": {
      "text/plain": [
       "array([[ 9., 10.,  8.,  6., 10.],\n",
       "       [ 7.,  7.,  6.,  3.,  4.],\n",
       "       [ 6.,  7.,  9.,  1.,  6.],\n",
       "       [ 7.,  2.,  8.,  6.,  7.],\n",
       "       [ 3.,  6.,  1.,  6.,  5.]])"
      ]
     },
     "execution_count": 27,
     "metadata": {},
     "output_type": "execute_result"
    }
   ],
   "source": [
    "A@P"
   ]
  },
  {
   "cell_type": "code",
   "execution_count": 28,
   "metadata": {},
   "outputs": [],
   "source": [
    "p = np.array([4,0,3,1,2])"
   ]
  },
  {
   "cell_type": "code",
   "execution_count": 29,
   "metadata": {},
   "outputs": [
    {
     "name": "stdout",
     "output_type": "stream",
     "text": [
      "[[ 9. 10.  8.  6. 10.]\n",
      " [ 7.  7.  6.  3.  4.]\n",
      " [ 6.  7.  9.  1.  6.]\n",
      " [ 7.  2.  8.  6.  7.]\n",
      " [ 3.  6.  1.  6.  5.]]\n"
     ]
    }
   ],
   "source": [
    "print(A[:,p])"
   ]
  },
  {
   "cell_type": "code",
   "execution_count": 30,
   "metadata": {},
   "outputs": [
    {
     "name": "stdout",
     "output_type": "stream",
     "text": [
      "Q:\n",
      " [[-0.31622777 -0.9486833 ]\n",
      " [-0.9486833   0.31622777]] \n",
      "R:\n",
      " [[-3.16227766 -4.42718872]\n",
      " [ 0.         -0.63245553]] \n",
      "Q@R:\n",
      " [[1. 2.]\n",
      " [3. 4.]]\n"
     ]
    }
   ],
   "source": [
    "A = np.array([[1,2],[3,4]])\n",
    "Q, R = npla.qr(A)\n",
    "print(\"Q:\\n\", Q,\"\\nR:\\n\", R, \"\\nQ@R:\\n\", Q@R)"
   ]
  },
  {
   "cell_type": "code",
   "execution_count": 34,
   "metadata": {},
   "outputs": [
    {
     "name": "stdout",
     "output_type": "stream",
     "text": [
      "Q:\n",
      " [[ 1.  0.  0.]\n",
      " [-0.  0. -1.]\n",
      " [-0. -1.  0.]] \n",
      "R:\n",
      " [[ 1.  2.  4.]\n",
      " [ 0. -3. -6.]\n",
      " [ 0.  0. -5.]] \n",
      "Q@R:\n",
      " [[1. 2. 4.]\n",
      " [0. 0. 5.]\n",
      " [0. 3. 6.]]\n"
     ]
    }
   ],
   "source": [
    "A = np.array([[1,2,4],[0,0,5],[0,3,6]])\n",
    "Q, R = npla.qr(A, mode='reduced')\n",
    "print(\"Q:\\n\", Q,\"\\nR:\\n\", R, \"\\nQ@R:\\n\", Q@R)"
   ]
  },
  {
   "cell_type": "code",
   "execution_count": 35,
   "metadata": {},
   "outputs": [
    {
     "name": "stdout",
     "output_type": "stream",
     "text": [
      "x1: [-1000.     1.] \n",
      "x2: [-999.999    1.001]\n",
      "\n",
      "A @ x1: [0. 1.]\n",
      "A @ x2: [1.001 1.001]\n",
      "\n",
      "residual norm: 1.0010004995002375\n",
      "\n",
      "condition number of A:\n",
      " 1000001.9999990001\n"
     ]
    }
   ],
   "source": [
    "A = np.array([[1,1000],[0,1]])\n",
    "b1 = np.array([0,1])\n",
    "x1 = npla.solve(A,b1)\n",
    "\n",
    "x2 = np.array([-999.999, 1.001])\n",
    "\n",
    "print(\"x1:\", x1, \"\\nx2:\", x2)\n",
    "print(\"\\nA @ x1:\", A@x1)\n",
    "print(\"A @ x2:\", A@x2)\n",
    "print(\"\\nresidual norm:\", npla.norm(b1 - A@x2))\n",
    "print(\"\\ncondition number of A:\\n\",npla.cond(A))"
   ]
  },
  {
   "cell_type": "code",
   "execution_count": 36,
   "metadata": {},
   "outputs": [
    {
     "name": "stdout",
     "output_type": "stream",
     "text": [
      "x1: [0. 1.] \n",
      "x2: [0.001 0.999]\n",
      "\n",
      "A @ x1: [9. 1.]\n",
      "A @ x2: [8.992 1.008]\n",
      "\n",
      "residual norm: 0.011313708498985399\n",
      "\n",
      "condition number of A:\n",
      " 1.2499999999999998\n"
     ]
    }
   ],
   "source": [
    "A = np.array([[1,9],[9,1]])\n",
    "b1 = np.array([9,1])\n",
    "x1 = npla.solve(A,b1)\n",
    "\n",
    "x2 = np.array([0.001, 0.999])\n",
    "\n",
    "print(\"x1:\", x1, \"\\nx2:\", x2)\n",
    "print(\"\\nA @ x1:\", A@x1)\n",
    "print(\"A @ x2:\", A@x2)\n",
    "print(\"\\nresidual norm:\", npla.norm(b1 - A@x2))\n",
    "print(\"\\ncondition number of A:\\n\",npla.cond(A))"
   ]
  },
  {
   "cell_type": "code",
   "execution_count": 37,
   "metadata": {},
   "outputs": [
    {
     "name": "stdout",
     "output_type": "stream",
     "text": [
      "x1: [ 1. -0.  1.] \n",
      "x2: [1.1 0.1 1. ]\n",
      "\n",
      "A @ x1: [1. 2. 1.]\n",
      "A @ x2: [1.2 2.1 1.1]\n",
      "\n",
      "residual norm: 0.24494897427831802\n",
      "\n",
      "condition number of A:\n",
      " 2.0000000000000004\n"
     ]
    }
   ],
   "source": [
    "A = np.array([[1,1,0],[1,0,1],[0,1,1]])\n",
    "b1 = np.array([1,2,1])\n",
    "x1 = npla.solve(A,b1)\n",
    "\n",
    "x2 = np.array([1.1,0.1,1])\n",
    "\n",
    "print(\"x1:\", x1, \"\\nx2:\", x2)\n",
    "print(\"\\nA @ x1:\", A@x1)\n",
    "print(\"A @ x2:\", A@x2)\n",
    "print(\"\\nresidual norm:\", npla.norm(b1 - A@x2))\n",
    "print(\"\\ncondition number of A:\\n\",npla.cond(A))"
   ]
  },
  {
   "cell_type": "code",
   "execution_count": 50,
   "metadata": {},
   "outputs": [],
   "source": [
    "A = np.array([[1,1,1],[1,2,3],[1,3,6]])\n",
    "x = npla.solve(A,[3,8,15])\n",
    "y = A @ [3,-1,0]\n",
    "L,U,p = LUfactor(A)\n",
    "B = linalg.cholesky(A,lower = True)\n",
    "C = linalg.inv(A)"
   ]
  },
  {
   "cell_type": "code",
   "execution_count": 79,
   "metadata": {},
   "outputs": [
    {
     "name": "stdout",
     "output_type": "stream",
     "text": [
      "(12, 12) (12, 5)\n"
     ]
    }
   ],
   "source": [
    "A = np.random.rand(12,5)\n",
    "Q,R=linalg.qr(A)\n",
    "print(Q.shape,R.shape)"
   ]
  },
  {
   "cell_type": "code",
   "execution_count": 76,
   "metadata": {},
   "outputs": [
    {
     "name": "stdout",
     "output_type": "stream",
     "text": [
      "12 12\n",
      "12 5\n"
     ]
    }
   ],
   "source": [
    "a,b = Q.shape\n",
    "print(a,b)\n",
    "b,c = R.shape\n",
    "print(b,c)\n",
    "b = np.array(range(12))"
   ]
  },
  {
   "cell_type": "code",
   "execution_count": 4,
   "metadata": {},
   "outputs": [
    {
     "data": {
      "text/plain": [
       "array([[1, 0, 0],\n",
       "       [1, 1, 0],\n",
       "       [1, 1, 1]])"
      ]
     },
     "execution_count": 4,
     "metadata": {},
     "output_type": "execute_result"
    }
   ],
   "source": [
    "A = np.array([[1,0,0],[1,1,0],[1,1,1]])\n",
    "A"
   ]
  },
  {
   "cell_type": "code",
   "execution_count": 7,
   "metadata": {},
   "outputs": [
    {
     "data": {
      "text/plain": [
       "array([3, 2, 1])"
      ]
     },
     "execution_count": 7,
     "metadata": {},
     "output_type": "execute_result"
    }
   ],
   "source": [
    "np.sum(A,0)"
   ]
  },
  {
   "cell_type": "code",
   "execution_count": 8,
   "metadata": {},
   "outputs": [
    {
     "data": {
      "text/plain": [
       "970"
      ]
     },
     "execution_count": 8,
     "metadata": {},
     "output_type": "execute_result"
    }
   ],
   "source": [
    "1023-53"
   ]
  },
  {
   "cell_type": "code",
   "execution_count": null,
   "metadata": {},
   "outputs": [],
   "source": []
  }
 ],
 "metadata": {
  "kernelspec": {
   "display_name": "Python 3",
   "language": "python",
   "name": "python3"
  },
  "language_info": {
   "codemirror_mode": {
    "name": "ipython",
    "version": 3
   },
   "file_extension": ".py",
   "mimetype": "text/x-python",
   "name": "python",
   "nbconvert_exporter": "python",
   "pygments_lexer": "ipython3",
   "version": "3.7.1"
  }
 },
 "nbformat": 4,
 "nbformat_minor": 2
}
