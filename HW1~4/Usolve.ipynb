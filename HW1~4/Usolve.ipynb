{
 "cells": [
  {
   "cell_type": "code",
   "execution_count": 120,
   "metadata": {},
   "outputs": [],
   "source": [
    "import numpy as np\n",
    " \n",
    "def Usolve(U, y):\n",
    "    \"\"\"Backward solve an upper triangular system Ux = y for x\n",
    "    Parameters:\n",
    "      U: the matrix, must be square, upper triangular, with nonzeros on the diagonal\n",
    "      y: the right-hand side vector\n",
    "    Output:\n",
    "      x: the solution vector to U @ x == y\n",
    "    \"\"\"\n",
    "    # Check the input\n",
    "    m, n = U.shape\n",
    "    assert m == n, \"matrix L must be square\"\n",
    "    assert np.all(np.triu(U) == U), \"matrix L must be lower triangular\"\n",
    "    assert np.all(np.diag(U)!=0), \"matrix must has nonezero diagonal\"\n",
    "    x = y.astype(np.float64).copy()\n",
    "    U = 1.0*U\n",
    "    for col in reversed(range(n)):\n",
    "        x[col]=x[col]/U[col, col]\n",
    "        U[col,:]=U[col,:]/U[col,col]\n",
    "    for col in reversed(range(n)):\n",
    "        x[:col]= x[:col]-x[col]*U[:col,col]\n",
    "    return x\n"
   ]
  },
  {
   "cell_type": "code",
   "execution_count": 121,
   "metadata": {},
   "outputs": [],
   "source": [
    "k=np.array([[5,5,5],[0,3,2],[0,0,2]])"
   ]
  },
  {
   "cell_type": "code",
   "execution_count": 118,
   "metadata": {},
   "outputs": [],
   "source": [
    "y=np.array([30, 7, 4])#3,1,2"
   ]
  },
  {
   "cell_type": "code",
   "execution_count": 119,
   "metadata": {},
   "outputs": [
    {
     "name": "stdout",
     "output_type": "stream",
     "text": [
      "[6.         2.33333333 2.        ]\n",
      "[[1.         1.         1.        ]\n",
      " [0.         1.         0.66666667]\n",
      " [0.         0.         1.        ]]\n"
     ]
    }
   ],
   "source": [
    "x=Usolve(k,y)"
   ]
  },
  {
   "cell_type": "code",
   "execution_count": 115,
   "metadata": {},
   "outputs": [
    {
     "name": "stdout",
     "output_type": "stream",
     "text": [
      "[30.  7.  4.]\n"
     ]
    }
   ],
   "source": [
    "print(k@x)"
   ]
  },
  {
   "cell_type": "code",
   "execution_count": null,
   "metadata": {},
   "outputs": [],
   "source": []
  }
 ],
 "metadata": {
  "kernelspec": {
   "display_name": "Python 3",
   "language": "python",
   "name": "python3"
  },
  "language_info": {
   "codemirror_mode": {
    "name": "ipython",
    "version": 3
   },
   "file_extension": ".py",
   "mimetype": "text/x-python",
   "name": "python",
   "nbconvert_exporter": "python",
   "pygments_lexer": "ipython3",
   "version": "3.7.1"
  }
 },
 "nbformat": 4,
 "nbformat_minor": 2
}
