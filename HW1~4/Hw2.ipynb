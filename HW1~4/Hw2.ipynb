{
 "cells": [
  {
   "cell_type": "code",
   "execution_count": 1,
   "metadata": {},
   "outputs": [],
   "source": [
    "import numpy as np"
   ]
  },
  {
   "cell_type": "code",
   "execution_count": 2,
   "metadata": {},
   "outputs": [],
   "source": [
    "import numpy.linalg as la"
   ]
  },
  {
   "cell_type": "code",
   "execution_count": 3,
   "metadata": {},
   "outputs": [],
   "source": [
    "a = np.diag(range(1,5))"
   ]
  },
  {
   "cell_type": "code",
   "execution_count": 4,
   "metadata": {},
   "outputs": [],
   "source": [
    "p = np.round(10*np.random.rand(4,4))"
   ]
  },
  {
   "cell_type": "code",
   "execution_count": 5,
   "metadata": {},
   "outputs": [
    {
     "name": "stdout",
     "output_type": "stream",
     "text": [
      "[[1. 2. 2. 2.]\n",
      " [2. 1. 5. 6.]\n",
      " [2. 8. 9. 1.]\n",
      " [4. 5. 5. 6.]]\n"
     ]
    }
   ],
   "source": [
    "print(p)"
   ]
  },
  {
   "cell_type": "code",
   "execution_count": 6,
   "metadata": {},
   "outputs": [
    {
     "name": "stdout",
     "output_type": "stream",
     "text": [
      "[[1 0 0 0]\n",
      " [0 2 0 0]\n",
      " [0 0 3 0]\n",
      " [0 0 0 4]]\n"
     ]
    }
   ],
   "source": [
    "print(a)"
   ]
  },
  {
   "cell_type": "code",
   "execution_count": 7,
   "metadata": {},
   "outputs": [
    {
     "name": "stdout",
     "output_type": "stream",
     "text": [
      "[[ 1.  4.  6.  8.]\n",
      " [ 2.  2. 15. 24.]\n",
      " [ 2. 16. 27.  4.]\n",
      " [ 4. 10. 15. 24.]]\n"
     ]
    }
   ],
   "source": [
    "print(p@a)"
   ]
  },
  {
   "cell_type": "code",
   "execution_count": 8,
   "metadata": {},
   "outputs": [
    {
     "name": "stdout",
     "output_type": "stream",
     "text": [
      "[[ 1.  2.  2.  2.]\n",
      " [ 4.  2. 10. 12.]\n",
      " [ 6. 24. 27.  3.]\n",
      " [16. 20. 20. 24.]]\n"
     ]
    }
   ],
   "source": [
    "print(a@p)"
   ]
  },
  {
   "cell_type": "code",
   "execution_count": 9,
   "metadata": {},
   "outputs": [],
   "source": [
    "v = np.array([3, 0, 2, 1])"
   ]
  },
  {
   "cell_type": "code",
   "execution_count": 10,
   "metadata": {},
   "outputs": [
    {
     "name": "stdout",
     "output_type": "stream",
     "text": [
      "[[0 0 0 4]\n",
      " [1 0 0 0]\n",
      " [0 0 3 0]\n",
      " [0 2 0 0]]\n"
     ]
    }
   ],
   "source": [
    "print(a[v,:])"
   ]
  },
  {
   "cell_type": "code",
   "execution_count": 11,
   "metadata": {},
   "outputs": [
    {
     "name": "stdout",
     "output_type": "stream",
     "text": [
      "[[0 1 0 0]\n",
      " [0 0 0 2]\n",
      " [0 0 3 0]\n",
      " [4 0 0 0]]\n"
     ]
    }
   ],
   "source": [
    "print(a[:,v])"
   ]
  },
  {
   "cell_type": "code",
   "execution_count": 17,
   "metadata": {},
   "outputs": [
    {
     "name": "stdout",
     "output_type": "stream",
     "text": [
      "[[ 2.  1.  5.  6.]\n",
      " [ 8. 10. 10. 12.]\n",
      " [ 6. 24. 27.  3.]\n",
      " [ 4.  8.  8.  8.]]\n"
     ]
    }
   ],
   "source": [
    "print(a[:,v]@p)"
   ]
  },
  {
   "cell_type": "code",
   "execution_count": 13,
   "metadata": {},
   "outputs": [],
   "source": [
    "def LUfactorNoPiv(A):\n",
    "    m,n = A.shape\n",
    "    assert m==n, \"A should be a square matrix\"\n",
    "    L = np.eye(n)\n",
    "    for row in range(1, n):\n",
    "        for col in range(row):\n",
    "            mul = A[row, col]/A[col, col]\n",
    "            A[row, :]-=mul*A[col, :]\n",
    "            print(mul)\n",
    "            L[row,col] = mul\n",
    "            print(\"L=\",L[row,col])\n",
    "    U = np.triu(A)\n",
    "            #L = np.round(A-U+np.eye(n),3)\n",
    "    return (A,L)"
   ]
  },
  {
   "cell_type": "code",
   "execution_count": 14,
   "metadata": {},
   "outputs": [],
   "source": [
    "k = 1.0*np.array([[5,-1,-1],[-1,5,-1],[-1,-1,5]])"
   ]
  },
  {
   "cell_type": "code",
   "execution_count": 15,
   "metadata": {},
   "outputs": [
    {
     "name": "stdout",
     "output_type": "stream",
     "text": [
      "-0.2\n",
      "L= -0.2\n",
      "-0.2\n",
      "L= -0.2\n",
      "-0.25\n",
      "L= -0.25\n"
     ]
    }
   ],
   "source": [
    "A = LUfactorNoPiv(k)"
   ]
  },
  {
   "cell_type": "code",
   "execution_count": 16,
   "metadata": {},
   "outputs": [
    {
     "name": "stdout",
     "output_type": "stream",
     "text": [
      "[[ 5.  -1.  -1. ]\n",
      " [ 0.   4.8 -1.2]\n",
      " [ 0.   0.   4.5]] \n",
      "\n",
      " [[ 1.    0.    0.  ]\n",
      " [-0.2   1.    0.  ]\n",
      " [-0.2  -0.25  1.  ]]\n"
     ]
    }
   ],
   "source": [
    "print(A[0],\"\\n\\n\", A[1])"
   ]
  },
  {
   "cell_type": "code",
   "execution_count": null,
   "metadata": {},
   "outputs": [],
   "source": []
  }
 ],
 "metadata": {
  "kernelspec": {
   "display_name": "Python 3",
   "language": "python",
   "name": "python3"
  },
  "language_info": {
   "codemirror_mode": {
    "name": "ipython",
    "version": 3
   },
   "file_extension": ".py",
   "mimetype": "text/x-python",
   "name": "python",
   "nbconvert_exporter": "python",
   "pygments_lexer": "ipython3",
   "version": "3.7.1"
  }
 },
 "nbformat": 4,
 "nbformat_minor": 2
}
