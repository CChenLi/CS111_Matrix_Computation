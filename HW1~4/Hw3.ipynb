{
 "cells": [
  {
   "cell_type": "code",
   "execution_count": 1,
   "metadata": {},
   "outputs": [],
   "source": [
    "import os\n",
    "import time\n",
    "import math\n",
    "import numpy as np\n",
    "import numpy.linalg as npla\n",
    "import scipy\n",
    "from scipy import sparse\n",
    "from scipy import linalg\n",
    "import scipy.sparse.linalg as spla\n",
    "import matplotlib.pyplot as plt\n",
    "from matplotlib import cm\n",
    "from mpl_toolkits.mplot3d import axes3d\n",
    "#%matplotlib tk"
   ]
  },
  {
   "cell_type": "code",
   "execution_count": 2,
   "metadata": {},
   "outputs": [],
   "source": [
    "def LUfactor(A, pivoting = True):\n",
    "    \"\"\"Factor a square matrix with partial pivoting, A[p,:] == L @ U\n",
    "    Parameters: \n",
    "      A: the matrix.\n",
    "      pivoting = True: whether or not to do partial pivoting\n",
    "    Outputs (in order):\n",
    "      L: the lower triangular factor, same dimensions as A, with ones on the diagonal\n",
    "      U: the upper triangular factor, same dimensions as A\n",
    "      p: the permutation vector that permutes the rows of A by partial pivoting\n",
    "    \"\"\"\n",
    "    # Check the input\n",
    "    m, n = A.shape\n",
    "    assert m == n, 'input matrix A must be square'\n",
    "    \n",
    "    # Initialize p to be the identity permutation\n",
    "    p = np.array(range(n))\n",
    "    \n",
    "    # Make a copy of the matrix that we will transform into L and U\n",
    "    LU = A.astype(np.float64).copy()\n",
    "    \n",
    "    # Eliminate each column in turn\n",
    "    for piv_col in range(n):\n",
    "        \n",
    "        # Choose the pivot row and swap it into place\n",
    "        if pivoting:\n",
    "            piv_row = piv_col + np.argmax(np.abs(LU[piv_col:, piv_col]))\n",
    "            assert LU[piv_row, piv_col] != 0., \"can't find nonzero pivot, matrix is singular\"\n",
    "            LU[[piv_col, piv_row], :]  = LU[[piv_row, piv_col], :]\n",
    "            p[[piv_col, piv_row]]      = p[[piv_row, piv_col]]\n",
    "            \n",
    "        # Update the rest of the matrix\n",
    "        pivot = LU[piv_col, piv_col]\n",
    "        assert pivot != 0., \"pivot is zero, can't continue\"\n",
    "        for row in range(piv_col + 1, n):\n",
    "            multiplier = LU[row, piv_col] / pivot\n",
    "            LU[row, piv_col] = multiplier\n",
    "            LU[row, (piv_col+1):] -= multiplier * LU[piv_col, (piv_col+1):]\n",
    "            \n",
    "    # Separate L and U in the result\n",
    "    U = np.triu(LU)\n",
    "    L = LU - U + np.eye(n)\n",
    "    \n",
    "    return (L, U, p)"
   ]
  },
  {
   "cell_type": "code",
   "execution_count": 3,
   "metadata": {},
   "outputs": [],
   "source": [
    "def Lsolve(L, b, unit_diag = False):\n",
    "    \"\"\"Forward solve a unit lower triangular system Ly = b for y\n",
    "    Parameters: \n",
    "      L: the matrix, must be square, lower triangular, with ones on the diagonal\n",
    "      b: the right-hand side vector\n",
    "        unit_diag = False: if true, assume the diagonal is all ones\n",
    "    Output:\n",
    "      y: the solution vector to L @ y == b\n",
    "    \"\"\"\n",
    "    # Check the input\n",
    "    m, n = L.shape\n",
    "    assert m == n, \"matrix must be square\"\n",
    "    assert np.all(np.tril(L) == L), \"matrix L must be lower triangular\"\n",
    "    if unit_diag:\n",
    "        assert np.all(np.diag(L) == 1), \"matrix L must have ones on the diagonal\"\n",
    "    bn, = b.shape\n",
    "    assert bn == n, \"rhs vector must be same size as L\"\n",
    "\n",
    "    # Make a copy of b that we will transform into the solution\n",
    "    y = b.astype(np.float64).copy()\n",
    "    \n",
    "    # Forward solve\n",
    "    for col in range(n):\n",
    "        if not unit_diag:\n",
    "            y[col] /= L[col, col]\n",
    "        y[col+1:] -= y[col] * L[col+1:, col]\n",
    "        \n",
    "    return y"
   ]
  },
  {
   "cell_type": "code",
   "execution_count": 4,
   "metadata": {},
   "outputs": [],
   "source": [
    "def Usolve(U, y, unit_diag = False):\n",
    "    \"\"\"Backward solve an upper triangular system Ux = y for x\n",
    "    Parameters: \n",
    "      U: the matrix, must be square, upper triangular, with nonzeros on the diagonal\n",
    "      y: the right-hand side vector\n",
    "      unit_diag = False: if true, assume the diagonal is all ones\n",
    "    Output:\n",
    "      x: the solution vector to U @ x == y\n",
    "    \"\"\"\n",
    "    # Check the input\n",
    "    m, n = U.shape\n",
    "    assert m == n, \"matrix must be square\"\n",
    "    assert np.all(np.triu(U) == U), \"matrix U must be upper triangular\"\n",
    "    if unit_diag:\n",
    "        assert np.all(np.diag(U) == 1), \"matrix U must have ones on the diagonal\"\n",
    "    yn, = y.shape\n",
    "    assert yn == n, \"rhs vector must be same size as U\"\n",
    "    \n",
    "    # Make a copy of y that we will transform into the solution\n",
    "    x = y.astype(np.float64).copy()\n",
    "    \n",
    "    # Back solve\n",
    "    for col in reversed(range(n)):\n",
    "        if not unit_diag:\n",
    "            x[col] /= U[col, col]\n",
    "        x[:col] -= x[col] * U[:col, col]\n",
    "        \n",
    "    return x"
   ]
  },
  {
   "cell_type": "code",
   "execution_count": 5,
   "metadata": {},
   "outputs": [],
   "source": [
    "def LUsolve(A, b):\n",
    "    \"\"\"Solve a linear system Ax = b for x by LU factorization with partial pivoting.\n",
    "    Parameters: \n",
    "      A: the matrix.\n",
    "      b: the right-hand side\n",
    "    Outputs (in order):\n",
    "      x: the computed solution\n",
    "      rel_res: relative residual norm,\n",
    "        norm(b - Ax) / norm(b)\n",
    "    \"\"\"\n",
    "    # Check the input\n",
    "    m, n = A.shape\n",
    "    assert m == n, \"matrix must be square\"\n",
    "    bn, = b.shape\n",
    "    assert bn == n, \"rhs vector must be same size as matrix\"\n",
    "    \n",
    "    # LU factorization\n",
    "    L, U, p = LUfactor(A)\n",
    "    \n",
    "    # Forward and back substitution\n",
    "    y = Lsolve(L,b[p])\n",
    "    x = Usolve(U,y)\n",
    "    \n",
    "    # Residual norm\n",
    "    rel_res = npla.norm(b - A@x) / npla.norm(b)\n",
    "    \n",
    "    return (x, rel_res)"
   ]
  },
  {
   "cell_type": "code",
   "execution_count": 6,
   "metadata": {},
   "outputs": [],
   "source": [
    "a = np.zeros((13, 13)).astype('float64')"
   ]
  },
  {
   "cell_type": "code",
   "execution_count": 7,
   "metadata": {},
   "outputs": [],
   "source": [
    "A = 1/math.sqrt(2)"
   ]
  },
  {
   "cell_type": "code",
   "execution_count": 8,
   "metadata": {},
   "outputs": [],
   "source": [
    "a[1,0]=1"
   ]
  },
  {
   "cell_type": "code",
   "execution_count": 9,
   "metadata": {},
   "outputs": [],
   "source": [
    "a[5,0]=-1#first"
   ]
  },
  {
   "cell_type": "code",
   "execution_count": 10,
   "metadata": {},
   "outputs": [],
   "source": [
    "a[2,1]=1#second"
   ]
  },
  {
   "cell_type": "code",
   "execution_count": 11,
   "metadata": {},
   "outputs": [],
   "source": [
    "a[0,2]=A"
   ]
  },
  {
   "cell_type": "code",
   "execution_count": 12,
   "metadata": {},
   "outputs": [],
   "source": [
    "a[3,2]=-1"
   ]
  },
  {
   "cell_type": "code",
   "execution_count": 13,
   "metadata": {},
   "outputs": [],
   "source": [
    "a[4,2]=-A#third"
   ]
  },
  {
   "cell_type": "code",
   "execution_count": 14,
   "metadata": {},
   "outputs": [],
   "source": [
    "a[0,3]=A"
   ]
  },
  {
   "cell_type": "code",
   "execution_count": 15,
   "metadata": {},
   "outputs": [],
   "source": [
    "a[2,3]=1"
   ]
  },
  {
   "cell_type": "code",
   "execution_count": 16,
   "metadata": {},
   "outputs": [],
   "source": [
    "a[4,3]=A#forth"
   ]
  },
  {
   "cell_type": "code",
   "execution_count": 17,
   "metadata": {},
   "outputs": [],
   "source": [
    "a[3,4]=1"
   ]
  },
  {
   "cell_type": "code",
   "execution_count": 18,
   "metadata": {},
   "outputs": [],
   "source": [
    "a[7,4]=-1#fifth"
   ]
  },
  {
   "cell_type": "code",
   "execution_count": 19,
   "metadata": {},
   "outputs": [],
   "source": [
    "a[6,5]=1#sixth"
   ]
  },
  {
   "cell_type": "code",
   "execution_count": 20,
   "metadata": {},
   "outputs": [],
   "source": [
    "a[4,6]=A"
   ]
  },
  {
   "cell_type": "code",
   "execution_count": 21,
   "metadata": {},
   "outputs": [],
   "source": [
    "a[5,6]=1"
   ]
  },
  {
   "cell_type": "code",
   "execution_count": 22,
   "metadata": {},
   "outputs": [],
   "source": [
    "a[8,6]=-A"
   ]
  },
  {
   "cell_type": "code",
   "execution_count": 23,
   "metadata": {},
   "outputs": [],
   "source": [
    "a[9,6]=-1#seventh"
   ]
  },
  {
   "cell_type": "code",
   "execution_count": 24,
   "metadata": {},
   "outputs": [],
   "source": [
    "a[4,7]=A"
   ]
  },
  {
   "cell_type": "code",
   "execution_count": 25,
   "metadata": {},
   "outputs": [],
   "source": [
    "a[6,7]=1"
   ]
  },
  {
   "cell_type": "code",
   "execution_count": 26,
   "metadata": {},
   "outputs": [],
   "source": [
    "a[8,7]=A#eighth"
   ]
  },
  {
   "cell_type": "code",
   "execution_count": 27,
   "metadata": {},
   "outputs": [],
   "source": [
    "a[9,8]=1"
   ]
  },
  {
   "cell_type": "code",
   "execution_count": 28,
   "metadata": {},
   "outputs": [],
   "source": [
    "a[12,8]=-1#ninth"
   ]
  },
  {
   "cell_type": "code",
   "execution_count": 29,
   "metadata": {},
   "outputs": [],
   "source": [
    "a[10,9]=1#tenth"
   ]
  },
  {
   "cell_type": "code",
   "execution_count": 30,
   "metadata": {},
   "outputs": [],
   "source": [
    "a[7,10]=1"
   ]
  },
  {
   "cell_type": "code",
   "execution_count": 31,
   "metadata": {},
   "outputs": [],
   "source": [
    "a[8,10]=A"
   ]
  },
  {
   "cell_type": "code",
   "execution_count": 32,
   "metadata": {},
   "outputs": [],
   "source": [
    "a[11,10]=-A#elevth"
   ]
  },
  {
   "cell_type": "code",
   "execution_count": 33,
   "metadata": {},
   "outputs": [],
   "source": [
    "a[8,11]=A"
   ]
  },
  {
   "cell_type": "code",
   "execution_count": 34,
   "metadata": {},
   "outputs": [],
   "source": [
    "a[10,11]=1"
   ]
  },
  {
   "cell_type": "code",
   "execution_count": 35,
   "metadata": {},
   "outputs": [],
   "source": [
    "a[11,11]=A#telveth"
   ]
  },
  {
   "cell_type": "code",
   "execution_count": 36,
   "metadata": {},
   "outputs": [],
   "source": [
    "a[12,12]=1"
   ]
  },
  {
   "cell_type": "code",
   "execution_count": 37,
   "metadata": {},
   "outputs": [],
   "source": [
    "a[11,12]=A"
   ]
  },
  {
   "cell_type": "code",
   "execution_count": 79,
   "metadata": {},
   "outputs": [],
   "source": [
    "a = 1.0/math.sqrt(2)"
   ]
  },
  {
   "cell_type": "code",
   "execution_count": 80,
   "metadata": {},
   "outputs": [],
   "source": [
    "b=np.array([0,10,0,0,0,0,0,15,0,20,0,0,0])"
   ]
  },
  {
   "cell_type": "code",
   "execution_count": 82,
   "metadata": {},
   "outputs": [],
   "source": [
    "A = np.array([[0,1,0,0,0,-1,0,0,0,0,0,0,0],\n",
    "[0,0,1,0,0,0,0,0,0,0,0,0,0],\n",
    "[a,0,0,-1,-a,0,0,0,0,0,0,0,0],\n",
    "[a,0,1,0,a,0,0,0,0,0,0,0,0],\n",
    "[0,0,0,1,0,0,0,-1,0,0,0,0,0],\n",
    "[0,0,0,0,0,0,1,0,0,0,0,0,0],\n",
    "[0,0,0,0,a,1,0,0,-a,-1,0,0,0],\n",
    "[0,0,0,0,a,0,1,0,a,0,0,0,0],\n",
    "[0,0,0,0,0,0,0,0,0,1,0,0,-1],\n",
    "[0,0,0,0,0,0,0,0,0,0,1,0,0],\n",
    "[0,0,0,0,0,0,0,1,a,0,0,-a,0],\n",
    "[0,0,0,0,0,0,0,0,a,0,1,a,0],\n",
    "[0,0,0,0,0,0,0,0,0,0,0,a,1]\n",
    "])"
   ]
  },
  {
   "cell_type": "code",
   "execution_count": 84,
   "metadata": {},
   "outputs": [],
   "source": [
    "f=npla.solve(A,b)"
   ]
  },
  {
   "cell_type": "code",
   "execution_count": 85,
   "metadata": {},
   "outputs": [],
   "source": [
    "f=np.round(f,3)"
   ]
  },
  {
   "cell_type": "code",
   "execution_count": 86,
   "metadata": {},
   "outputs": [
    {
     "data": {
      "text/plain": [
       "array([-28.284,  20.   ,  10.   , -30.   ,  14.142,  20.   ,   0.   ,\n",
       "       -30.   ,   7.071,  25.   ,  20.   , -35.355,  25.   ])"
      ]
     },
     "execution_count": 86,
     "metadata": {},
     "output_type": "execute_result"
    }
   ],
   "source": [
    "f"
   ]
  },
  {
   "cell_type": "code",
   "execution_count": 44,
   "metadata": {
    "scrolled": false
   },
   "outputs": [
    {
     "data": {
      "text/plain": [
       "array([[ 0.        ,  0.        ,  0.70710678,  0.70710678,  0.        ,\n",
       "         0.        ,  0.        ,  0.        ,  0.        ,  0.        ,\n",
       "         0.        ,  0.        ,  0.        ],\n",
       "       [ 1.        ,  0.        ,  0.        ,  0.        ,  0.        ,\n",
       "         0.        ,  0.        ,  0.        ,  0.        ,  0.        ,\n",
       "         0.        ,  0.        ,  0.        ],\n",
       "       [ 0.        ,  1.        ,  0.        ,  1.        ,  0.        ,\n",
       "         0.        ,  0.        ,  0.        ,  0.        ,  0.        ,\n",
       "         0.        ,  0.        ,  0.        ],\n",
       "       [ 0.        ,  0.        , -1.        ,  0.        ,  1.        ,\n",
       "         0.        ,  0.        ,  0.        ,  0.        ,  0.        ,\n",
       "         0.        ,  0.        ,  0.        ],\n",
       "       [ 0.        ,  0.        , -0.70710678,  0.70710678,  0.        ,\n",
       "         0.        ,  0.70710678,  0.70710678,  0.        ,  0.        ,\n",
       "         0.        ,  0.        ,  0.        ],\n",
       "       [-1.        ,  0.        ,  0.        ,  0.        ,  0.        ,\n",
       "         0.        ,  1.        ,  0.        ,  0.        ,  0.        ,\n",
       "         0.        ,  0.        ,  0.        ],\n",
       "       [ 0.        ,  0.        ,  0.        ,  0.        ,  0.        ,\n",
       "         1.        ,  0.        ,  1.        ,  0.        ,  0.        ,\n",
       "         0.        ,  0.        ,  0.        ],\n",
       "       [ 0.        ,  0.        ,  0.        ,  0.        , -1.        ,\n",
       "         0.        ,  0.        ,  0.        ,  0.        ,  0.        ,\n",
       "         1.        ,  0.        ,  0.        ],\n",
       "       [ 0.        ,  0.        ,  0.        ,  0.        ,  0.        ,\n",
       "         0.        , -0.70710678,  0.70710678,  0.        ,  0.        ,\n",
       "         0.70710678,  0.70710678,  0.        ],\n",
       "       [ 0.        ,  0.        ,  0.        ,  0.        ,  0.        ,\n",
       "         0.        , -1.        ,  0.        ,  1.        ,  0.        ,\n",
       "         0.        ,  0.        ,  0.        ],\n",
       "       [ 0.        ,  0.        ,  0.        ,  0.        ,  0.        ,\n",
       "         0.        ,  0.        ,  0.        ,  0.        ,  1.        ,\n",
       "         0.        ,  1.        ,  0.        ],\n",
       "       [ 0.        ,  0.        ,  0.        ,  0.        ,  0.        ,\n",
       "         0.        ,  0.        ,  0.        ,  0.        ,  0.        ,\n",
       "        -0.70710678,  0.70710678,  0.70710678],\n",
       "       [ 0.        ,  0.        ,  0.        ,  0.        ,  0.        ,\n",
       "         0.        ,  0.        ,  0.        , -1.        ,  0.        ,\n",
       "         0.        ,  0.        ,  1.        ]])"
      ]
     },
     "execution_count": 44,
     "metadata": {},
     "output_type": "execute_result"
    }
   ],
   "source": []
  },
  {
   "cell_type": "code",
   "execution_count": 69,
   "metadata": {},
   "outputs": [],
   "source": [
    "def p5(power):\n",
    "    a = 10 ** power\n",
    "    A = np.array([[a,1],[1,1]])\n",
    "    b=np.array([a+2,3])\n",
    "    LU1 = LUfactor(A, True)\n",
    "    LU2 = LUfactor(A, False)\n",
    "    y1 = Lsolve(LU1[0], b[LU1[2]])\n",
    "    y2 = Lsolve(LU2[0], b[LU2[2]])\n",
    "    x1 = Usolve(LU1[1], y1)\n",
    "    x2 = Usolve(LU2[1], y2)\n",
    "    print(\"when alpha = 10 to the\", power, \":\\n\",\"with pivoting x = \", x1,\"\\n without pivoting x=\", x2,\"\\n\")"
   ]
  },
  {
   "cell_type": "code",
   "execution_count": 70,
   "metadata": {},
   "outputs": [
    {
     "name": "stdout",
     "output_type": "stream",
     "text": [
      "when alpha = 10 to the -4 :\n",
      " with pivoting x =  [1. 2.] \n",
      " without pivoting x= [1. 2.] \n",
      "\n",
      "when alpha = 10 to the -8 :\n",
      " with pivoting x =  [1. 2.] \n",
      " without pivoting x= [0.99999999 2.        ] \n",
      "\n",
      "when alpha = 10 to the -16 :\n",
      " with pivoting x =  [1. 2.] \n",
      " without pivoting x= [4.4408921 2.       ] \n",
      "\n",
      "when alpha = 10 to the -20 :\n",
      " with pivoting x =  [1. 2.] \n",
      " without pivoting x= [0. 2.] \n",
      "\n"
     ]
    }
   ],
   "source": [
    "for power in [-4,-8,-16,-20]:\n",
    "    p5(power)"
   ]
  },
  {
   "cell_type": "code",
   "execution_count": null,
   "metadata": {},
   "outputs": [],
   "source": [
    "#when pivoting is true, the result is more accurate no matter \n",
    "#how alpha change since it enhance numerical stability. \n",
    "#However, when pivoting is false, the answer start to fluctuate\n",
    "#as alpha get smaller because numerical stability is no ensured"
   ]
  },
  {
   "cell_type": "code",
   "execution_count": 93,
   "metadata": {},
   "outputs": [],
   "source": [
    "A = np.round(20*np.random.rand(6,6))"
   ]
  },
  {
   "cell_type": "code",
   "execution_count": 94,
   "metadata": {},
   "outputs": [],
   "source": [
    "b = np.round(np.random.rand(6))"
   ]
  },
  {
   "cell_type": "code",
   "execution_count": 95,
   "metadata": {},
   "outputs": [],
   "source": [
    "L,U,p=LUfactor(A)"
   ]
  },
  {
   "cell_type": "code",
   "execution_count": 96,
   "metadata": {},
   "outputs": [],
   "source": [
    "x=Usolve(L.T, Lsolve(U.T,b[p]))"
   ]
  },
  {
   "cell_type": "code",
   "execution_count": 97,
   "metadata": {},
   "outputs": [],
   "source": [
    "X=npla.solve(A.T,b)"
   ]
  },
  {
   "cell_type": "code",
   "execution_count": 98,
   "metadata": {},
   "outputs": [],
   "source": [
    "res = npla.norm(X-x)"
   ]
  },
  {
   "cell_type": "code",
   "execution_count": 99,
   "metadata": {},
   "outputs": [
    {
     "data": {
      "text/plain": [
       "1.086857477370672"
      ]
     },
     "execution_count": 99,
     "metadata": {},
     "output_type": "execute_result"
    }
   ],
   "source": [
    "res"
   ]
  },
  {
   "cell_type": "code",
   "execution_count": 100,
   "metadata": {},
   "outputs": [
    {
     "name": "stdout",
     "output_type": "stream",
     "text": [
      "[-0.17992086 -0.23880419  0.28772624 -0.04790427  0.58822703 -0.57798051]\n"
     ]
    }
   ],
   "source": [
    "print(x)"
   ]
  },
  {
   "cell_type": "code",
   "execution_count": 101,
   "metadata": {},
   "outputs": [
    {
     "name": "stdout",
     "output_type": "stream",
     "text": [
      "[ 0.06273283  0.27721502 -0.40341735 -0.14725657  0.19434723 -0.11601635]\n"
     ]
    }
   ],
   "source": [
    "print(X)"
   ]
  },
  {
   "cell_type": "code",
   "execution_count": 102,
   "metadata": {},
   "outputs": [],
   "source": [
    "x=LUsolve(A.T,b)"
   ]
  },
  {
   "cell_type": "code",
   "execution_count": 103,
   "metadata": {},
   "outputs": [
    {
     "data": {
      "text/plain": [
       "(array([ 0.06273283,  0.27721502, -0.40341735, -0.14725657,  0.19434723,\n",
       "        -0.11601635]), 1.1035677597380545e-15)"
      ]
     },
     "execution_count": 103,
     "metadata": {},
     "output_type": "execute_result"
    }
   ],
   "source": [
    "x"
   ]
  },
  {
   "cell_type": "code",
   "execution_count": 134,
   "metadata": {},
   "outputs": [
    {
     "data": {
      "text/plain": [
       "array([[19.,  5.,  8., 13.,  2., 11.],\n",
       "       [ 9., 15.,  0., 12.,  4., 17.],\n",
       "       [ 1., 12., 15., 14., 16., 17.],\n",
       "       [13., 16., 12.,  0., 15.,  6.],\n",
       "       [12.,  6.,  1.,  2., 16., 12.],\n",
       "       [ 2.,  3.,  5., -0., 19.,  8.]])"
      ]
     },
     "execution_count": 134,
     "metadata": {},
     "output_type": "execute_result"
    }
   ],
   "source": [
    "np.round(L@U)"
   ]
  },
  {
   "cell_type": "code",
   "execution_count": 138,
   "metadata": {},
   "outputs": [
    {
     "data": {
      "text/plain": [
       "array([[13., 16., 12.,  0., 15.,  6.],\n",
       "       [12.,  6.,  1.,  2., 16., 12.],\n",
       "       [ 2.,  3.,  5.,  0., 19.,  8.],\n",
       "       [ 9., 15.,  0., 12.,  4., 17.],\n",
       "       [ 1., 12., 15., 14., 16., 17.],\n",
       "       [19.,  5.,  8., 13.,  2., 11.]])"
      ]
     },
     "execution_count": 138,
     "metadata": {},
     "output_type": "execute_result"
    }
   ],
   "source": [
    "A"
   ]
  },
  {
   "cell_type": "code",
   "execution_count": 144,
   "metadata": {},
   "outputs": [],
   "source": [
    "P=np.array([[0,0,0,0,0,1],\n",
    "           [0,0,0,1,0,0],\n",
    "           [0,0,0,0,1,0],\n",
    "           [1,0,0,0,0,0],\n",
    "           [0,1,0,0,0,0],\n",
    "           [0,0,1,0,0,0]])"
   ]
  },
  {
   "cell_type": "code",
   "execution_count": 145,
   "metadata": {},
   "outputs": [
    {
     "data": {
      "text/plain": [
       "array([[19.,  5.,  8., 13.,  2., 11.],\n",
       "       [ 9., 15.,  0., 12.,  4., 17.],\n",
       "       [20., 17., 23., 27., 18., 28.],\n",
       "       [13., 16., 12.,  0., 15.,  6.],\n",
       "       [12.,  6.,  1.,  2., 16., 12.],\n",
       "       [ 2.,  3.,  5.,  0., 19.,  8.]])"
      ]
     },
     "execution_count": 145,
     "metadata": {},
     "output_type": "execute_result"
    }
   ],
   "source": [
    "P@A"
   ]
  },
  {
   "cell_type": "code",
   "execution_count": 173,
   "metadata": {},
   "outputs": [],
   "source": [
    "p = np.array([5,3,4,0,1,2])"
   ]
  },
  {
   "cell_type": "code",
   "execution_count": 174,
   "metadata": {},
   "outputs": [],
   "source": [
    "def getPermutation(p):\n",
    "    P= np.zeros((len(p),len(p))).astype('int64')\n",
    "    k = 0\n",
    "    for i in p:\n",
    "        P[k,i] = 1;\n",
    "        k = k+1\n",
    "    return P"
   ]
  },
  {
   "cell_type": "code",
   "execution_count": 175,
   "metadata": {},
   "outputs": [],
   "source": [
    "P = getPermutation(p)"
   ]
  },
  {
   "cell_type": "code",
   "execution_count": 176,
   "metadata": {},
   "outputs": [
    {
     "data": {
      "text/plain": [
       "array([[0, 0, 0, 0, 0, 1],\n",
       "       [0, 0, 0, 1, 0, 0],\n",
       "       [0, 0, 0, 0, 1, 0],\n",
       "       [1, 0, 0, 0, 0, 0],\n",
       "       [0, 1, 0, 0, 0, 0],\n",
       "       [0, 0, 1, 0, 0, 0]])"
      ]
     },
     "execution_count": 176,
     "metadata": {},
     "output_type": "execute_result"
    }
   ],
   "source": [
    "P"
   ]
  },
  {
   "cell_type": "code",
   "execution_count": 172,
   "metadata": {},
   "outputs": [
    {
     "name": "stdout",
     "output_type": "stream",
     "text": [
      "[0 0 0 0 0 0]\n",
      "[0 0 0 0 0 0]\n",
      "[0 0 0 0 0 0]\n",
      "[0 0 0 0 0 0]\n",
      "[0 0 0 0 0 0]\n",
      "[0 0 0 0 0 0]\n"
     ]
    }
   ],
   "source": [
    "for i in p:\n",
    "    print(i)"
   ]
  },
  {
   "cell_type": "code",
   "execution_count": 177,
   "metadata": {},
   "outputs": [],
   "source": [
    "A = np.round(10*np.random.rand(6,6))"
   ]
  },
  {
   "cell_type": "code",
   "execution_count": 178,
   "metadata": {},
   "outputs": [],
   "source": [
    "b=np.round(10*np.random.rand(6))"
   ]
  },
  {
   "cell_type": "code",
   "execution_count": 179,
   "metadata": {},
   "outputs": [],
   "source": [
    "L,U,p = LUfactor(A)"
   ]
  },
  {
   "cell_type": "code",
   "execution_count": 203,
   "metadata": {},
   "outputs": [],
   "source": [
    "P = getPermutation(p)"
   ]
  },
  {
   "cell_type": "code",
   "execution_count": 180,
   "metadata": {},
   "outputs": [],
   "source": [
    "LT = L.T"
   ]
  },
  {
   "cell_type": "code",
   "execution_count": 210,
   "metadata": {},
   "outputs": [],
   "source": [
    "UT = U.T"
   ]
  },
  {
   "cell_type": "code",
   "execution_count": 211,
   "metadata": {},
   "outputs": [],
   "source": [
    "Y = Lsolve(UT, b)"
   ]
  },
  {
   "cell_type": "code",
   "execution_count": 212,
   "metadata": {},
   "outputs": [],
   "source": [
    "X = Usolve(LT, Y)"
   ]
  },
  {
   "cell_type": "code",
   "execution_count": 213,
   "metadata": {},
   "outputs": [],
   "source": [
    "x = P.T@X"
   ]
  },
  {
   "cell_type": "code",
   "execution_count": 214,
   "metadata": {},
   "outputs": [
    {
     "name": "stdout",
     "output_type": "stream",
     "text": [
      "[-0.42505133  0.38788501  0.35954825 -0.14045175  0.88480493 -0.20821355]\n"
     ]
    }
   ],
   "source": [
    "print(x)"
   ]
  },
  {
   "cell_type": "code",
   "execution_count": 215,
   "metadata": {},
   "outputs": [
    {
     "name": "stdout",
     "output_type": "stream",
     "text": [
      "[-0.42505133  0.38788501  0.35954825 -0.14045175  0.88480493 -0.20821355]\n"
     ]
    }
   ],
   "source": [
    "print(npla.solve(A.T,b))"
   ]
  },
  {
   "cell_type": "code",
   "execution_count": null,
   "metadata": {},
   "outputs": [],
   "source": []
  }
 ],
 "metadata": {
  "kernelspec": {
   "display_name": "Python 3",
   "language": "python",
   "name": "python3"
  },
  "language_info": {
   "codemirror_mode": {
    "name": "ipython",
    "version": 3
   },
   "file_extension": ".py",
   "mimetype": "text/x-python",
   "name": "python",
   "nbconvert_exporter": "python",
   "pygments_lexer": "ipython3",
   "version": "3.7.1"
  }
 },
 "nbformat": 4,
 "nbformat_minor": 2
}
